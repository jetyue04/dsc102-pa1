{
 "cells": [
  {
   "cell_type": "markdown",
   "id": "285a4873-ff33-4ff1-b7d2-0032254484fe",
   "metadata": {},
   "source": [
    "## <font color='red'> INSTRUCTIONS </font>"
   ]
  },
  {
   "cell_type": "markdown",
   "id": "89957ed8-c2d1-4592-8821-88806390d1cc",
   "metadata": {},
   "source": [
    "<b> \n",
    "1. Write your code only in cells below the \"WRITE CODE BELOW\" title. Do not modify the code below the \"DO NOT MODIFY\" title. <br>\n",
    "2. The expected data types of the output answers for each question are given in the last cell through assertion statements. Your answers must match these expected output data types. Hint: Many of the answers need to be a Python dictionary. Consider methods like to_dict() to convert a Pandas Series to a dictionary. <br>\n",
    "3. The answers are then written to a JSON file named my_results_PA1.json. You can compare this with the provided expected output file \"expected_results_PA1.json\". <br>\n",
    "4. After you complete writing your code, click \"Kernel -> Restart Kernel and Run All Cells\" on the top toolbar. There should NOT be any syntax/runtime errors, otherwise points will be deducted. <br>\n",
    "5. For submitting your solution, first download your notebook by clicking \"File -> Download\". Rename the file as &ltTEAM_ID&gt.ipynb\" and upload to Canvas.</b>\n"
   ]
  },
  {
   "cell_type": "markdown",
   "id": "2e5f7e94-c5b1-494c-8aab-832242527a4e",
   "metadata": {},
   "source": [
    "## <font color='red'> DO NOT MODIFY </font>"
   ]
  },
  {
   "cell_type": "code",
   "execution_count": 2,
   "id": "76f3c8d7-690f-428b-982d-94265b4a7f02",
   "metadata": {},
   "outputs": [
    {
     "name": "stdout",
     "output_type": "stream",
     "text": [
      "None\n"
     ]
    }
   ],
   "source": [
    "import time\n",
    "import json\n",
    "import dask\n",
    "import dask.dataframe as dd\n",
    "import pandas as pd\n",
    "import ast\n",
    "import re\n",
    "from dask.distributed import Client\n",
    "import ctypes\n",
    "import numpy as np\n",
    "\n",
    "def trim_memory() -> int:\n",
    "    \"\"\"\n",
    "    helps to fix any memory leaks.\n",
    "    \"\"\"\n",
    "    libc = ctypes.CDLL(\"libc.so.6\")\n",
    "    return libc.malloc_trim(0)\n",
    "\n",
    "client = Client(\"127.0.0.1:8786\")\n",
    "client.run(trim_memory)\n",
    "client = client.restart()\n",
    "print(client)"
   ]
  },
  {
   "cell_type": "code",
   "execution_count": 2,
   "id": "eb6ac532-d64f-4659-9cc8-94481f48c366",
   "metadata": {},
   "outputs": [],
   "source": [
    "start = time.time()"
   ]
  },
  {
   "cell_type": "markdown",
   "id": "fa3b6eb9-e5d7-423a-a0bc-7b86e6db1ab4",
   "metadata": {},
   "source": [
    "## <font color='blue'> WRITE CODE BELOW </font>"
   ]
  },
  {
   "cell_type": "code",
   "execution_count": 90,
   "id": "cf416f4d-1782-4fa5-9b2b-b44aafd55934",
   "metadata": {},
   "outputs": [
    {
     "data": {
      "text/plain": [
       "1"
      ]
     },
     "execution_count": 90,
     "metadata": {},
     "output_type": "execute_result"
    }
   ],
   "source": [
    "### read in the 'user_reviews.csv' and 'products.csv' files, perform your calculations and place the answers in variables ans1 - ans7.\n",
    "\n",
    "\n",
    "# substitute 'None' with the outputs from your calculations. \n",
    "# The expected output types can be seen in the assertion statements below\n",
    "reviews = dd.read_csv('user_reviews.csv', dtype={'asin': 'object'})\n",
    "products = dd.read_csv('products.csv', dtype={'asin': 'object'})\n",
    "\n",
    "\n",
    "rev = reviews.partitions[0]\n",
    "prod = products.partitions[0]\n",
    "\n",
    "#Q1 + 2\n",
    "ans1 = rev.isna().sum(axis=0) / len(rev) * 100\n",
    "ans2 = prod.isna().sum(axis=0) / len(prod) * 100\n",
    "\n",
    "\n",
    "#Q3\n",
    "rev_small = rev[['asin', 'overall']]\n",
    "prod_small = prod[['asin', 'price']]\n",
    "merged = dd.merge(rev_small, prod_small, on='asin', how='inner')\n",
    "merged = merged.dropna(subset=['overall', 'price'])\n",
    "corr = merged[['overall', 'price']].corr()\n",
    "ans3 = corr.loc['overall', 'price']\n",
    "\n",
    "#Q4\n",
    "price = prod['price'].dropna()\n",
    "ans4 = {\n",
    "    'mean': price.mean().compute(),\n",
    "    'std': price.std().compute(),\n",
    "    'min': price.min().compute(),\n",
    "    'max': price.max().compute(),\n",
    "    'median': price.quantile(0.5).compute()\n",
    "}\n",
    "\n",
    "#Q5\n",
    "cat = prod['categories'].dropna()\n",
    "def get_supercat(cat_str):\n",
    "    try:\n",
    "        cat_list = eval(cat_str)\n",
    "        if isinstance(cat_list, list) and cat_list and isinstance(cat_list[0], list) and cat_list[0] and cat_list[0][0]:\n",
    "            return cat_list[0][0]\n",
    "        else:\n",
    "            return None\n",
    "    except:\n",
    "        return None\n",
    "\n",
    "valid_cats = cat.map(get_supercat, meta=('supercat', 'object'))\n",
    "cat_count = valid_cats.value_counts().compute()\n",
    "ans5 = cat_count.to_dict()\n",
    "\n",
    "#Q6:\n",
    "rev_asins = set(rev['asin'].dropna().unique().compute())\n",
    "prod_asins = set(prod['asin'].dropna().unique().compute())\n",
    "ans6 = int(len(rev_asins - prod_asins) > 0)\n",
    "\n",
    "#Q7\n",
    "related = prod['related'].dropna()\n",
    "\n",
    "def extract_related_ids(related_str):\n",
    "    try:\n",
    "        d = ast.literal_eval(related_str)\n",
    "        ids = []\n",
    "        for k in ['also_bought', 'also_viewed', 'bought_together', 'buy_after_viewing']:\n",
    "            if k in d and isinstance(d[k], list):\n",
    "                ids.extend(d[k])\n",
    "        return ids\n",
    "    except:\n",
    "        return []\n",
    "\n",
    "related_ids = related.map(extract_related_ids, meta=('related_ids', 'object')).explode()\n",
    "related_ids = related_ids.dropna()\n",
    "related_ids_set = set(related_ids)\n",
    "ans7 = int(len(related_ids_set - prod_asins_set) > 0)\n",
    "ans7b"
   ]
  },
  {
   "cell_type": "code",
   "execution_count": 3,
   "id": "fc47b622-7b6f-436b-aefc-03a0eecb938c",
   "metadata": {},
   "outputs": [
    {
     "name": "stdout",
     "output_type": "stream",
     "text": [
      "execution time = 0.15819239616394043s\n"
     ]
    }
   ],
   "source": [
    "start = time.time()\n",
    "reviews = dd.read_csv('user_reviews.csv', dtype={'asin': 'object'})\n",
    "products = dd.read_csv('products.csv', dtype={'asin': 'object'})\n",
    "\n",
    "reviews = reviews.persist()\n",
    "products = products.persist()\n",
    "end = time.time()\n",
    "print(f\"execution time = {end-start}s\")\n"
   ]
  },
  {
   "cell_type": "code",
   "execution_count": 5,
   "id": "ec7f7be9-7a9c-40d1-aa54-beedf2e0be92",
   "metadata": {},
   "outputs": [],
   "source": [
    "from dask import compute"
   ]
  },
  {
   "cell_type": "code",
   "execution_count": 6,
   "id": "a6e7f2c7-cf9f-4396-bf91-5ba6413d284e",
   "metadata": {},
   "outputs": [
    {
     "name": "stdout",
     "output_type": "stream",
     "text": [
      "execution time = 50.164355516433716s\n"
     ]
    }
   ],
   "source": [
    "# ──────────────────────────────\n",
    "# Q1, Q2: Percentage of missing values\n",
    "# ──────────────────────────────\n",
    "start = time.time()\n",
    "q1 = reviews.isna().sum() / len(reviews) * 100\n",
    "q2 = products.isna().sum() / len(products) * 100\n",
    "ans1, ans2 = compute(q1, q2)\n",
    "end = time.time()\n",
    "print(f\"execution time = {end-start}s\")"
   ]
  },
  {
   "cell_type": "code",
   "execution_count": 8,
   "id": "ac24b08c-0eb1-461d-90f9-2857d28acdf3",
   "metadata": {},
   "outputs": [
    {
     "data": {
      "text/plain": [
       "asin            0.000000\n",
       "salesRank      26.015663\n",
       "imUrl           1.795239\n",
       "categories      0.798038\n",
       "title          15.192683\n",
       "description    41.718038\n",
       "price          35.703404\n",
       "related        29.039236\n",
       "brand          81.685090\n",
       "dtype: float64"
      ]
     },
     "execution_count": 8,
     "metadata": {},
     "output_type": "execute_result"
    }
   ],
   "source": [
    "ans2"
   ]
  },
  {
   "cell_type": "code",
   "execution_count": 9,
   "id": "757bf86d-53d6-4609-bf4b-98e1e276024f",
   "metadata": {},
   "outputs": [
    {
     "name": "stdout",
     "output_type": "stream",
     "text": [
      "execution time = 77.63178420066833s\n"
     ]
    }
   ],
   "source": [
    "start = time.time()\n",
    "# ──────────────────────────────\n",
    "# Q3: Pearson correlation between price and overall rating\n",
    "# ──────────────────────────────\n",
    "merged = dd.merge(\n",
    "    reviews[['asin', 'overall']],\n",
    "    products[['asin', 'price']],\n",
    "    on='asin',\n",
    "    how='inner'\n",
    ").dropna(subset=['overall', 'price'])\n",
    "\n",
    "ans3 = merged[['overall', 'price']].corr().compute().loc['overall', 'price']\n",
    "end = time.time()\n",
    "print(f\"execution time = {end-start}s\")"
   ]
  },
  {
   "cell_type": "code",
   "execution_count": 11,
   "id": "c003240e-5530-47b4-8abf-65e0375f7570",
   "metadata": {},
   "outputs": [
    {
     "name": "stdout",
     "output_type": "stream",
     "text": [
      "execution time = 1.5656347274780273s\n"
     ]
    }
   ],
   "source": [
    "start = time.time()\n",
    "# ──────────────────────────────\n",
    "# Q4: Summary stats for price\n",
    "# ──────────────────────────────\n",
    "price = products['price'].dropna()\n",
    "q4_mean = price.mean()\n",
    "q4_std = price.std()\n",
    "q4_min = price.min()\n",
    "q4_max = price.max()\n",
    "q4_median = price.quantile(0.5)\n",
    "\n",
    "q4_mean, q4_std, q4_min, q4_max, q4_median = compute(\n",
    "    q4_mean, q4_std, q4_min, q4_max, q4_median\n",
    ")\n",
    "\n",
    "ans4 = {\n",
    "    'mean': q4_mean,\n",
    "    'std': q4_std,\n",
    "    'min': q4_min,\n",
    "    'max': q4_max,\n",
    "    'median': q4_median\n",
    "}\n",
    "end = time.time()\n",
    "print(f\"execution time = {end-start}s\")"
   ]
  },
  {
   "cell_type": "code",
   "execution_count": 12,
   "id": "abdaea66-aaab-45ac-8e8a-95a9e90fc7a8",
   "metadata": {},
   "outputs": [
    {
     "name": "stdout",
     "output_type": "stream",
     "text": [
      "execution time = 20.106683254241943s\n"
     ]
    }
   ],
   "source": [
    "start = time.time()\n",
    "# ──────────────────────────────\n",
    "# Q5: Count of products by super-category\n",
    "# ──────────────────────────────\n",
    "def get_supercat(cat_str):\n",
    "    try:\n",
    "        cat_list = ast.literal_eval(cat_str)\n",
    "        if isinstance(cat_list, list) and cat_list and isinstance(cat_list[0], list) and cat_list[0]:\n",
    "            return cat_list[0][0]\n",
    "    except:\n",
    "        return None\n",
    "    return None\n",
    "\n",
    "valid_cats = products['categories'].dropna().map(get_supercat, meta=('supercat', 'object'))\n",
    "ans5 = valid_cats.value_counts().compute().to_dict()\n",
    "end = time.time()\n",
    "print(f\"execution time = {end-start}s\")"
   ]
  },
  {
   "cell_type": "code",
   "execution_count": 14,
   "id": "b932156f-62af-4bb2-984e-2c9a01077521",
   "metadata": {},
   "outputs": [
    {
     "name": "stdout",
     "output_type": "stream",
     "text": [
      "execution time = 93.52458477020264s\n"
     ]
    }
   ],
   "source": [
    "start = time.time()\n",
    "# ──────────────────────────────\n",
    "# Q6: Dangling references from reviews → products\n",
    "# ──────────────────────────────\n",
    "rev_asins, prod_asins = compute(\n",
    "    reviews['asin'].dropna().unique(),\n",
    "    products['asin'].dropna().unique()\n",
    ")\n",
    "ans6 = int(len(set(rev_asins) - set(prod_asins)) > 0)\n",
    "end = time.time()\n",
    "print(f\"execution time = {end-start}s\")"
   ]
  },
  {
   "cell_type": "code",
   "execution_count": null,
   "id": "a462cca5-2379-4292-8e66-bd7f5864bce0",
   "metadata": {},
   "outputs": [
    {
     "name": "stderr",
     "output_type": "stream",
     "text": [
      "/home/ubuntu/dask_env/lib/python3.10/site-packages/distributed/client.py:3383: UserWarning: Sending large graph of size 117.04 MiB.\n",
      "This may cause some slowdown.\n",
      "Consider loading the data with Dask directly\n",
      " or using futures or delayed objects to embed the data into the graph without repetition.\n",
      "See also https://docs.dask.org/en/stable/best-practices.html#load-data-with-dask for more information.\n",
      "  warnings.warn(\n"
     ]
    }
   ],
   "source": [
    "start = time.time()\n",
    "# ──────────────────────────────\n",
    "# Q7: Dangling references from related → products\n",
    "# ──────────────────────────────\n",
    "def extract_related_ids(related_str):\n",
    "    try:\n",
    "        d = ast.literal_eval(related_str)\n",
    "        ids = []\n",
    "        for k in ['also_bought', 'also_viewed', 'bought_together', 'buy_after_viewing']:\n",
    "            if k in d and isinstance(d[k], list):\n",
    "                ids.extend(d[k])\n",
    "        return ids\n",
    "    except:\n",
    "        return []\n",
    "\n",
    "prod_asins_set = set(products['asin'].dropna().unique().compute())\n",
    "\n",
    "def is_dangling(asin):\n",
    "    return asin not in prod_asins_set\n",
    "\n",
    "# Apply lazily\n",
    "dangling_flags = products['related'].dropna().map(\n",
    "    extract_related_ids, meta=('related_ids', 'object')\n",
    ").explode().dropna().map(is_dangling, meta=('dangling', 'bool'))\n",
    "\n",
    "# If any True → dangling reference exists\n",
    "ans7 = int(dangling_flags.any().compute())\n",
    "end = time.time()\n",
    "print(f\"execution time = {end-start}s\")"
   ]
  },
  {
   "cell_type": "code",
   "execution_count": 3,
   "id": "01b089cf-3433-42b3-9eb3-3463a5e70fe3",
   "metadata": {},
   "outputs": [
    {
     "name": "stderr",
     "output_type": "stream",
     "text": [
      "2025-05-13 00:51:41,288 - distributed.client - WARNING - Couldn't gather 418 keys, rescheduling (('read-e7c1646f42a971c9f96afbc29294f0af', 50), ('read-e7c1646f42a971c9f96afbc29294f0af', 59), ('read-e7c1646f42a971c9f96afbc29294f0af', 68), ('read-e7c1646f42a971c9f96afbc29294f0af', 306), ('read-e7c1646f42a971c9f96afbc29294f0af', 315), ('read-9e8a220db3db5f2989593b5b681f8b5e', 1), ('read-9e8a220db3db5f2989593b5b681f8b5e', 10), ('read-9e8a220db3db5f2989593b5b681f8b5e', 19), ('read-9e8a220db3db5f2989593b5b681f8b5e', 28), ('read-9e8a220db3db5f2989593b5b681f8b5e', 37), ('read-e7c1646f42a971c9f96afbc29294f0af', 171), ('read-e7c1646f42a971c9f96afbc29294f0af', 180), ('read-e7c1646f42a971c9f96afbc29294f0af', 189), ('read-e7c1646f42a971c9f96afbc29294f0af', 198), ('read-e7c1646f42a971c9f96afbc29294f0af', 207), ('read-9e8a220db3db5f2989593b5b681f8b5e', 131), ('read-9e8a220db3db5f2989593b5b681f8b5e', 140), ('read-e7c1646f42a971c9f96afbc29294f0af', 36), ('read-9e8a220db3db5f2989593b5b681f8b5e', 149), ('read-e7c1646f42a971c9f96afbc29294f0af', 45), ('read-e7c1646f42a971c9f96afbc29294f0af', 54), ('read-e7c1646f42a971c9f96afbc29294f0af', 292), ('read-e7c1646f42a971c9f96afbc29294f0af', 63), ('read-e7c1646f42a971c9f96afbc29294f0af', 301), ('read-e7c1646f42a971c9f96afbc29294f0af', 72), ('read-e7c1646f42a971c9f96afbc29294f0af', 310), ('read-9e8a220db3db5f2989593b5b681f8b5e', 5), ('read-9e8a220db3db5f2989593b5b681f8b5e', 14), ('read-9e8a220db3db5f2989593b5b681f8b5e', 23), ('read-e7c1646f42a971c9f96afbc29294f0af', 157), ('read-9e8a220db3db5f2989593b5b681f8b5e', 32), ('read-e7c1646f42a971c9f96afbc29294f0af', 166), ('read-e7c1646f42a971c9f96afbc29294f0af', 175), ('read-e7c1646f42a971c9f96afbc29294f0af', 184), ('read-e7c1646f42a971c9f96afbc29294f0af', 193), ('read-9e8a220db3db5f2989593b5b681f8b5e', 117), ('read-9e8a220db3db5f2989593b5b681f8b5e', 126), ('read-e7c1646f42a971c9f96afbc29294f0af', 22), ('read-9e8a220db3db5f2989593b5b681f8b5e', 135), ('read-e7c1646f42a971c9f96afbc29294f0af', 31), ('read-9e8a220db3db5f2989593b5b681f8b5e', 144), ('read-e7c1646f42a971c9f96afbc29294f0af', 40), ('read-e7c1646f42a971c9f96afbc29294f0af', 49), ('read-e7c1646f42a971c9f96afbc29294f0af', 287), ('read-e7c1646f42a971c9f96afbc29294f0af', 58), ('read-e7c1646f42a971c9f96afbc29294f0af', 296), ('read-e7c1646f42a971c9f96afbc29294f0af', 305), ('read-e7c1646f42a971c9f96afbc29294f0af', 314), ('read-9e8a220db3db5f2989593b5b681f8b5e', 0), ('read-9e8a220db3db5f2989593b5b681f8b5e', 9), ('read-9e8a220db3db5f2989593b5b681f8b5e', 18), ('read-e7c1646f42a971c9f96afbc29294f0af', 152), ('read-e7c1646f42a971c9f96afbc29294f0af', 161), ('read-e7c1646f42a971c9f96afbc29294f0af', 170), ('read-e7c1646f42a971c9f96afbc29294f0af', 179), ('read-e7c1646f42a971c9f96afbc29294f0af', 188), ('read-9e8a220db3db5f2989593b5b681f8b5e', 112), ('read-9e8a220db3db5f2989593b5b681f8b5e', 121), ('read-e7c1646f42a971c9f96afbc29294f0af', 17), ('read-9e8a220db3db5f2989593b5b681f8b5e', 130), ('read-e7c1646f42a971c9f96afbc29294f0af', 26), ('read-9e8a220db3db5f2989593b5b681f8b5e', 139), ('read-e7c1646f42a971c9f96afbc29294f0af', 35), ('read-e7c1646f42a971c9f96afbc29294f0af', 273), ('read-9e8a220db3db5f2989593b5b681f8b5e', 148), ('read-e7c1646f42a971c9f96afbc29294f0af', 44), ('read-e7c1646f42a971c9f96afbc29294f0af', 282), ('read-e7c1646f42a971c9f96afbc29294f0af', 53), ('read-e7c1646f42a971c9f96afbc29294f0af', 291), ('read-e7c1646f42a971c9f96afbc29294f0af', 300), ('read-e7c1646f42a971c9f96afbc29294f0af', 309), ('read-9e8a220db3db5f2989593b5b681f8b5e', 4), ('read-e7c1646f42a971c9f96afbc29294f0af', 138), ('read-9e8a220db3db5f2989593b5b681f8b5e', 13), ('read-e7c1646f42a971c9f96afbc29294f0af', 147), ('read-e7c1646f42a971c9f96afbc29294f0af', 156), ('read-e7c1646f42a971c9f96afbc29294f0af', 165), ('read-e7c1646f42a971c9f96afbc29294f0af', 174), ('read-9e8a220db3db5f2989593b5b681f8b5e', 107), ('read-e7c1646f42a971c9f96afbc29294f0af', 3), ('read-9e8a220db3db5f2989593b5b681f8b5e', 116), ('read-e7c1646f42a971c9f96afbc29294f0af', 12), ('read-9e8a220db3db5f2989593b5b681f8b5e', 125), ('read-e7c1646f42a971c9f96afbc29294f0af', 21), ('read-9e8a220db3db5f2989593b5b681f8b5e', 134), ('read-e7c1646f42a971c9f96afbc29294f0af', 30), ('read-e7c1646f42a971c9f96afbc29294f0af', 268), ('read-e7c1646f42a971c9f96afbc29294f0af', 39), ('read-e7c1646f42a971c9f96afbc29294f0af', 277), ('read-e7c1646f42a971c9f96afbc29294f0af', 286), ('read-e7c1646f42a971c9f96afbc29294f0af', 295), ('read-e7c1646f42a971c9f96afbc29294f0af', 133), ('read-e7c1646f42a971c9f96afbc29294f0af', 142), ('read-e7c1646f42a971c9f96afbc29294f0af', 151), ('read-e7c1646f42a971c9f96afbc29294f0af', 160), ('read-e7c1646f42a971c9f96afbc29294f0af', 169), ('read-9e8a220db3db5f2989593b5b681f8b5e', 102), ('read-9e8a220db3db5f2989593b5b681f8b5e', 111), ('read-e7c1646f42a971c9f96afbc29294f0af', 7), ('read-9e8a220db3db5f2989593b5b681f8b5e', 120), ('read-e7c1646f42a971c9f96afbc29294f0af', 16), ('read-e7c1646f42a971c9f96afbc29294f0af', 254), ('read-e7c1646f42a971c9f96afbc29294f0af', 25), ('read-e7c1646f42a971c9f96afbc29294f0af', 263), ('read-e7c1646f42a971c9f96afbc29294f0af', 34), ('read-e7c1646f42a971c9f96afbc29294f0af', 272), ('read-e7c1646f42a971c9f96afbc29294f0af', 281), ('read-e7c1646f42a971c9f96afbc29294f0af', 290), ('read-e7c1646f42a971c9f96afbc29294f0af', 119), ('read-e7c1646f42a971c9f96afbc29294f0af', 128), ('read-e7c1646f42a971c9f96afbc29294f0af', 137), ('read-e7c1646f42a971c9f96afbc29294f0af', 146), ('read-e7c1646f42a971c9f96afbc29294f0af', 155), ('read-9e8a220db3db5f2989593b5b681f8b5e', 106), ('read-e7c1646f42a971c9f96afbc29294f0af', 2), ('read-e7c1646f42a971c9f96afbc29294f0af', 240), ('read-9e8a220db3db5f2989593b5b681f8b5e', 115), ('read-e7c1646f42a971c9f96afbc29294f0af', 11), ('read-e7c1646f42a971c9f96afbc29294f0af', 249), ('read-e7c1646f42a971c9f96afbc29294f0af', 20), ('read-e7c1646f42a971c9f96afbc29294f0af', 258), ('read-e7c1646f42a971c9f96afbc29294f0af', 267), ('read-e7c1646f42a971c9f96afbc29294f0af', 276), ('read-e7c1646f42a971c9f96afbc29294f0af', 105), ('read-e7c1646f42a971c9f96afbc29294f0af', 114), ('read-e7c1646f42a971c9f96afbc29294f0af', 123), ('read-e7c1646f42a971c9f96afbc29294f0af', 132), ('read-e7c1646f42a971c9f96afbc29294f0af', 141), ('read-9e8a220db3db5f2989593b5b681f8b5e', 65), ('read-9e8a220db3db5f2989593b5b681f8b5e', 101), ('read-e7c1646f42a971c9f96afbc29294f0af', 235), ('read-e7c1646f42a971c9f96afbc29294f0af', 6), ('read-e7c1646f42a971c9f96afbc29294f0af', 244), ('read-e7c1646f42a971c9f96afbc29294f0af', 253), ('read-e7c1646f42a971c9f96afbc29294f0af', 262), ('read-e7c1646f42a971c9f96afbc29294f0af', 271), ('read-e7c1646f42a971c9f96afbc29294f0af', 100), ('read-e7c1646f42a971c9f96afbc29294f0af', 109), ('read-e7c1646f42a971c9f96afbc29294f0af', 118), ('read-e7c1646f42a971c9f96afbc29294f0af', 127), ('read-e7c1646f42a971c9f96afbc29294f0af', 136), ('read-9e8a220db3db5f2989593b5b681f8b5e', 60), ('read-e7c1646f42a971c9f96afbc29294f0af', 221), ('read-e7c1646f42a971c9f96afbc29294f0af', 230), ('read-e7c1646f42a971c9f96afbc29294f0af', 1), ('read-e7c1646f42a971c9f96afbc29294f0af', 239), ('read-e7c1646f42a971c9f96afbc29294f0af', 248), ('read-e7c1646f42a971c9f96afbc29294f0af', 257), ('read-e7c1646f42a971c9f96afbc29294f0af', 95), ('read-e7c1646f42a971c9f96afbc29294f0af', 104), ('read-e7c1646f42a971c9f96afbc29294f0af', 113), ('read-e7c1646f42a971c9f96afbc29294f0af', 122), ('read-9e8a220db3db5f2989593b5b681f8b5e', 46), ('read-9e8a220db3db5f2989593b5b681f8b5e', 55), ('read-9e8a220db3db5f2989593b5b681f8b5e', 64), ('read-e7c1646f42a971c9f96afbc29294f0af', 216), ('read-e7c1646f42a971c9f96afbc29294f0af', 225), ('read-e7c1646f42a971c9f96afbc29294f0af', 234), ('read-e7c1646f42a971c9f96afbc29294f0af', 243), ('read-e7c1646f42a971c9f96afbc29294f0af', 252), ('read-e7c1646f42a971c9f96afbc29294f0af', 99), ('read-e7c1646f42a971c9f96afbc29294f0af', 108), ('read-e7c1646f42a971c9f96afbc29294f0af', 117), ('read-9e8a220db3db5f2989593b5b681f8b5e', 41), ('read-9e8a220db3db5f2989593b5b681f8b5e', 50), ('read-9e8a220db3db5f2989593b5b681f8b5e', 59), ('read-9e8a220db3db5f2989593b5b681f8b5e', 68), ('read-e7c1646f42a971c9f96afbc29294f0af', 202), ('read-e7c1646f42a971c9f96afbc29294f0af', 211), ('read-e7c1646f42a971c9f96afbc29294f0af', 220), ('read-e7c1646f42a971c9f96afbc29294f0af', 229), ('read-e7c1646f42a971c9f96afbc29294f0af', 238), ('read-e7c1646f42a971c9f96afbc29294f0af', 67), ('read-e7c1646f42a971c9f96afbc29294f0af', 85), ('read-e7c1646f42a971c9f96afbc29294f0af', 103), ('read-9e8a220db3db5f2989593b5b681f8b5e', 27), ('read-9e8a220db3db5f2989593b5b681f8b5e', 36), ('read-9e8a220db3db5f2989593b5b681f8b5e', 45), ('read-9e8a220db3db5f2989593b5b681f8b5e', 54), ('read-9e8a220db3db5f2989593b5b681f8b5e', 63), ('read-e7c1646f42a971c9f96afbc29294f0af', 197), ('read-e7c1646f42a971c9f96afbc29294f0af', 206), ('read-e7c1646f42a971c9f96afbc29294f0af', 215), ('read-e7c1646f42a971c9f96afbc29294f0af', 224), ('read-e7c1646f42a971c9f96afbc29294f0af', 233), ('read-e7c1646f42a971c9f96afbc29294f0af', 62), ('read-e7c1646f42a971c9f96afbc29294f0af', 80), ('read-9e8a220db3db5f2989593b5b681f8b5e', 22), ('read-9e8a220db3db5f2989593b5b681f8b5e', 31), ('read-9e8a220db3db5f2989593b5b681f8b5e', 40), ('read-9e8a220db3db5f2989593b5b681f8b5e', 49), ('read-e7c1646f42a971c9f96afbc29294f0af', 183), ('read-9e8a220db3db5f2989593b5b681f8b5e', 58), ('read-e7c1646f42a971c9f96afbc29294f0af', 192), ('read-e7c1646f42a971c9f96afbc29294f0af', 201), ('read-e7c1646f42a971c9f96afbc29294f0af', 210), ('read-e7c1646f42a971c9f96afbc29294f0af', 219), ('read-9e8a220db3db5f2989593b5b681f8b5e', 143), ('read-e7c1646f42a971c9f96afbc29294f0af', 48), ('read-e7c1646f42a971c9f96afbc29294f0af', 57), ('read-e7c1646f42a971c9f96afbc29294f0af', 66), ('read-e7c1646f42a971c9f96afbc29294f0af', 304), ('read-e7c1646f42a971c9f96afbc29294f0af', 313), ('read-e7c1646f42a971c9f96afbc29294f0af', 84), ('read-9e8a220db3db5f2989593b5b681f8b5e', 17), ('read-9e8a220db3db5f2989593b5b681f8b5e', 26), ('read-9e8a220db3db5f2989593b5b681f8b5e', 35), ('read-9e8a220db3db5f2989593b5b681f8b5e', 44), ('read-e7c1646f42a971c9f96afbc29294f0af', 178), ('read-e7c1646f42a971c9f96afbc29294f0af', 187), ('read-e7c1646f42a971c9f96afbc29294f0af', 196), ('read-e7c1646f42a971c9f96afbc29294f0af', 205), ('read-9e8a220db3db5f2989593b5b681f8b5e', 129), ('read-e7c1646f42a971c9f96afbc29294f0af', 214), ('read-9e8a220db3db5f2989593b5b681f8b5e', 138), ('read-9e8a220db3db5f2989593b5b681f8b5e', 147), ('read-e7c1646f42a971c9f96afbc29294f0af', 43), ('read-e7c1646f42a971c9f96afbc29294f0af', 52), ('read-e7c1646f42a971c9f96afbc29294f0af', 61), ('read-e7c1646f42a971c9f96afbc29294f0af', 299), ('read-e7c1646f42a971c9f96afbc29294f0af', 70), ('read-e7c1646f42a971c9f96afbc29294f0af', 308), ('read-e7c1646f42a971c9f96afbc29294f0af', 317), ('read-9e8a220db3db5f2989593b5b681f8b5e', 3), ('read-9e8a220db3db5f2989593b5b681f8b5e', 12), ('read-9e8a220db3db5f2989593b5b681f8b5e', 21), ('read-9e8a220db3db5f2989593b5b681f8b5e', 30), ('read-e7c1646f42a971c9f96afbc29294f0af', 164), ('read-e7c1646f42a971c9f96afbc29294f0af', 173), ('read-e7c1646f42a971c9f96afbc29294f0af', 182), ('read-e7c1646f42a971c9f96afbc29294f0af', 191), ('read-e7c1646f42a971c9f96afbc29294f0af', 200), ('read-9e8a220db3db5f2989593b5b681f8b5e', 124), ('read-9e8a220db3db5f2989593b5b681f8b5e', 133), ('read-e7c1646f42a971c9f96afbc29294f0af', 29), ('read-9e8a220db3db5f2989593b5b681f8b5e', 142), ('read-e7c1646f42a971c9f96afbc29294f0af', 38), ('read-9e8a220db3db5f2989593b5b681f8b5e', 151), ('read-e7c1646f42a971c9f96afbc29294f0af', 47), ('read-e7c1646f42a971c9f96afbc29294f0af', 285), ('read-e7c1646f42a971c9f96afbc29294f0af', 56), ('read-e7c1646f42a971c9f96afbc29294f0af', 294), ('read-e7c1646f42a971c9f96afbc29294f0af', 65), ('read-e7c1646f42a971c9f96afbc29294f0af', 303), ('read-e7c1646f42a971c9f96afbc29294f0af', 312), ('read-9e8a220db3db5f2989593b5b681f8b5e', 7), ('read-9e8a220db3db5f2989593b5b681f8b5e', 16), ('read-e7c1646f42a971c9f96afbc29294f0af', 150), ('read-9e8a220db3db5f2989593b5b681f8b5e', 25), ('read-e7c1646f42a971c9f96afbc29294f0af', 159), ('read-e7c1646f42a971c9f96afbc29294f0af', 168), ('read-e7c1646f42a971c9f96afbc29294f0af', 177), ('read-e7c1646f42a971c9f96afbc29294f0af', 186), ('read-9e8a220db3db5f2989593b5b681f8b5e', 110), ('read-9e8a220db3db5f2989593b5b681f8b5e', 119), ('read-e7c1646f42a971c9f96afbc29294f0af', 15), ('read-9e8a220db3db5f2989593b5b681f8b5e', 128), ('read-e7c1646f42a971c9f96afbc29294f0af', 24), ('read-9e8a220db3db5f2989593b5b681f8b5e', 137), ('read-e7c1646f42a971c9f96afbc29294f0af', 33), ('read-9e8a220db3db5f2989593b5b681f8b5e', 146), ('read-e7c1646f42a971c9f96afbc29294f0af', 42), ('read-e7c1646f42a971c9f96afbc29294f0af', 280), ('read-e7c1646f42a971c9f96afbc29294f0af', 51), ('read-e7c1646f42a971c9f96afbc29294f0af', 289), ('read-e7c1646f42a971c9f96afbc29294f0af', 298), ('read-e7c1646f42a971c9f96afbc29294f0af', 307), ('read-e7c1646f42a971c9f96afbc29294f0af', 316), ('read-9e8a220db3db5f2989593b5b681f8b5e', 2), ('read-9e8a220db3db5f2989593b5b681f8b5e', 11), ('read-e7c1646f42a971c9f96afbc29294f0af', 145), ('read-e7c1646f42a971c9f96afbc29294f0af', 154), ('read-e7c1646f42a971c9f96afbc29294f0af', 163), ('read-e7c1646f42a971c9f96afbc29294f0af', 172), ('read-e7c1646f42a971c9f96afbc29294f0af', 181), ('read-9e8a220db3db5f2989593b5b681f8b5e', 105), ('read-9e8a220db3db5f2989593b5b681f8b5e', 114), ('read-e7c1646f42a971c9f96afbc29294f0af', 10), ('read-9e8a220db3db5f2989593b5b681f8b5e', 123), ('read-e7c1646f42a971c9f96afbc29294f0af', 19), ('read-9e8a220db3db5f2989593b5b681f8b5e', 132), ('read-e7c1646f42a971c9f96afbc29294f0af', 28), ('read-e7c1646f42a971c9f96afbc29294f0af', 266), ('read-9e8a220db3db5f2989593b5b681f8b5e', 141), ('read-e7c1646f42a971c9f96afbc29294f0af', 37), ('read-e7c1646f42a971c9f96afbc29294f0af', 275), ('read-e7c1646f42a971c9f96afbc29294f0af', 46), ('read-e7c1646f42a971c9f96afbc29294f0af', 284), ('read-e7c1646f42a971c9f96afbc29294f0af', 293), ('read-e7c1646f42a971c9f96afbc29294f0af', 302), ('read-e7c1646f42a971c9f96afbc29294f0af', 131), ('read-9e8a220db3db5f2989593b5b681f8b5e', 6), ('read-e7c1646f42a971c9f96afbc29294f0af', 140), ('read-e7c1646f42a971c9f96afbc29294f0af', 149), ('read-e7c1646f42a971c9f96afbc29294f0af', 158), ('read-e7c1646f42a971c9f96afbc29294f0af', 167), ('read-9e8a220db3db5f2989593b5b681f8b5e', 100), ('read-9e8a220db3db5f2989593b5b681f8b5e', 109), ('read-e7c1646f42a971c9f96afbc29294f0af', 5), ('read-9e8a220db3db5f2989593b5b681f8b5e', 118), ('read-e7c1646f42a971c9f96afbc29294f0af', 14), ('read-9e8a220db3db5f2989593b5b681f8b5e', 127), ('read-e7c1646f42a971c9f96afbc29294f0af', 23), ('read-e7c1646f42a971c9f96afbc29294f0af', 261), ('read-e7c1646f42a971c9f96afbc29294f0af', 32), ('read-e7c1646f42a971c9f96afbc29294f0af', 270), ('read-e7c1646f42a971c9f96afbc29294f0af', 279), ('read-e7c1646f42a971c9f96afbc29294f0af', 288), ('read-e7c1646f42a971c9f96afbc29294f0af', 297), ('read-e7c1646f42a971c9f96afbc29294f0af', 126), ('read-e7c1646f42a971c9f96afbc29294f0af', 135), ('read-e7c1646f42a971c9f96afbc29294f0af', 144), ('read-e7c1646f42a971c9f96afbc29294f0af', 153), ('read-e7c1646f42a971c9f96afbc29294f0af', 162), ('read-9e8a220db3db5f2989593b5b681f8b5e', 86), ('read-9e8a220db3db5f2989593b5b681f8b5e', 95), ('read-9e8a220db3db5f2989593b5b681f8b5e', 104), ('read-e7c1646f42a971c9f96afbc29294f0af', 0), ('read-9e8a220db3db5f2989593b5b681f8b5e', 113), ('read-e7c1646f42a971c9f96afbc29294f0af', 247), ('read-9e8a220db3db5f2989593b5b681f8b5e', 122), ('read-e7c1646f42a971c9f96afbc29294f0af', 18), ('read-e7c1646f42a971c9f96afbc29294f0af', 256), ('read-e7c1646f42a971c9f96afbc29294f0af', 27), ('read-e7c1646f42a971c9f96afbc29294f0af', 265), ('read-e7c1646f42a971c9f96afbc29294f0af', 274), ('read-e7c1646f42a971c9f96afbc29294f0af', 283), ('read-e7c1646f42a971c9f96afbc29294f0af', 112), ('read-e7c1646f42a971c9f96afbc29294f0af', 121), ('read-e7c1646f42a971c9f96afbc29294f0af', 130), ('read-e7c1646f42a971c9f96afbc29294f0af', 139), ('read-e7c1646f42a971c9f96afbc29294f0af', 148), ('read-9e8a220db3db5f2989593b5b681f8b5e', 108), ('read-e7c1646f42a971c9f96afbc29294f0af', 4), ('read-e7c1646f42a971c9f96afbc29294f0af', 242), ('read-e7c1646f42a971c9f96afbc29294f0af', 13), ('read-e7c1646f42a971c9f96afbc29294f0af', 251), ('read-e7c1646f42a971c9f96afbc29294f0af', 260), ('read-e7c1646f42a971c9f96afbc29294f0af', 269), ('read-e7c1646f42a971c9f96afbc29294f0af', 278), ('read-e7c1646f42a971c9f96afbc29294f0af', 107), ('read-e7c1646f42a971c9f96afbc29294f0af', 116), ('read-e7c1646f42a971c9f96afbc29294f0af', 125), ('read-e7c1646f42a971c9f96afbc29294f0af', 134), ('read-e7c1646f42a971c9f96afbc29294f0af', 143), ('read-9e8a220db3db5f2989593b5b681f8b5e', 67), ('read-9e8a220db3db5f2989593b5b681f8b5e', 85), ('read-9e8a220db3db5f2989593b5b681f8b5e', 94), ('read-e7c1646f42a971c9f96afbc29294f0af', 228), ('read-9e8a220db3db5f2989593b5b681f8b5e', 103), ('read-e7c1646f42a971c9f96afbc29294f0af', 237), ('read-e7c1646f42a971c9f96afbc29294f0af', 246), ('read-e7c1646f42a971c9f96afbc29294f0af', 255), ('read-e7c1646f42a971c9f96afbc29294f0af', 264), ('read-e7c1646f42a971c9f96afbc29294f0af', 102), ('read-e7c1646f42a971c9f96afbc29294f0af', 111), ('read-e7c1646f42a971c9f96afbc29294f0af', 120), ('read-e7c1646f42a971c9f96afbc29294f0af', 129), ('read-9e8a220db3db5f2989593b5b681f8b5e', 53), ('read-9e8a220db3db5f2989593b5b681f8b5e', 62), ('read-9e8a220db3db5f2989593b5b681f8b5e', 71), ('read-9e8a220db3db5f2989593b5b681f8b5e', 89), ('read-e7c1646f42a971c9f96afbc29294f0af', 223), ('read-e7c1646f42a971c9f96afbc29294f0af', 232), ('read-e7c1646f42a971c9f96afbc29294f0af', 241), ('read-e7c1646f42a971c9f96afbc29294f0af', 250), ('read-e7c1646f42a971c9f96afbc29294f0af', 259), ('read-e7c1646f42a971c9f96afbc29294f0af', 106), ('read-e7c1646f42a971c9f96afbc29294f0af', 115), ('read-9e8a220db3db5f2989593b5b681f8b5e', 39), ('read-e7c1646f42a971c9f96afbc29294f0af', 124), ('read-9e8a220db3db5f2989593b5b681f8b5e', 48), ('read-9e8a220db3db5f2989593b5b681f8b5e', 57), ('read-9e8a220db3db5f2989593b5b681f8b5e', 66), ('read-e7c1646f42a971c9f96afbc29294f0af', 209), ('read-e7c1646f42a971c9f96afbc29294f0af', 218), ('read-e7c1646f42a971c9f96afbc29294f0af', 227), ('read-e7c1646f42a971c9f96afbc29294f0af', 236), ('read-e7c1646f42a971c9f96afbc29294f0af', 245), ('read-e7c1646f42a971c9f96afbc29294f0af', 101), ('read-e7c1646f42a971c9f96afbc29294f0af', 110), ('read-9e8a220db3db5f2989593b5b681f8b5e', 34), ('read-9e8a220db3db5f2989593b5b681f8b5e', 43), ('read-9e8a220db3db5f2989593b5b681f8b5e', 52), ('read-9e8a220db3db5f2989593b5b681f8b5e', 61), ('read-e7c1646f42a971c9f96afbc29294f0af', 195), ('read-e7c1646f42a971c9f96afbc29294f0af', 204), ('read-e7c1646f42a971c9f96afbc29294f0af', 213), ('read-e7c1646f42a971c9f96afbc29294f0af', 222), ('read-e7c1646f42a971c9f96afbc29294f0af', 231), ('read-e7c1646f42a971c9f96afbc29294f0af', 60), ('read-9e8a220db3db5f2989593b5b681f8b5e', 20), ('read-9e8a220db3db5f2989593b5b681f8b5e', 29), ('read-9e8a220db3db5f2989593b5b681f8b5e', 38), ('read-9e8a220db3db5f2989593b5b681f8b5e', 47), ('read-9e8a220db3db5f2989593b5b681f8b5e', 56), ('read-e7c1646f42a971c9f96afbc29294f0af', 190), ('read-e7c1646f42a971c9f96afbc29294f0af', 199), ('read-e7c1646f42a971c9f96afbc29294f0af', 208), ('read-e7c1646f42a971c9f96afbc29294f0af', 217), ('read-e7c1646f42a971c9f96afbc29294f0af', 226), ('read-9e8a220db3db5f2989593b5b681f8b5e', 150), ('read-e7c1646f42a971c9f96afbc29294f0af', 55), ('read-e7c1646f42a971c9f96afbc29294f0af', 64), ('read-e7c1646f42a971c9f96afbc29294f0af', 311), ('read-9e8a220db3db5f2989593b5b681f8b5e', 15), ('read-9e8a220db3db5f2989593b5b681f8b5e', 24), ('read-9e8a220db3db5f2989593b5b681f8b5e', 33), ('read-9e8a220db3db5f2989593b5b681f8b5e', 42), ('read-e7c1646f42a971c9f96afbc29294f0af', 176), ('read-9e8a220db3db5f2989593b5b681f8b5e', 51), ('read-e7c1646f42a971c9f96afbc29294f0af', 185), ('read-e7c1646f42a971c9f96afbc29294f0af', 194), ('read-e7c1646f42a971c9f96afbc29294f0af', 203), ('read-e7c1646f42a971c9f96afbc29294f0af', 212), ('read-9e8a220db3db5f2989593b5b681f8b5e', 136), ('read-9e8a220db3db5f2989593b5b681f8b5e', 145), ('read-e7c1646f42a971c9f96afbc29294f0af', 41))\n",
      "2025-05-13 00:53:01,399 - distributed.client - WARNING - Couldn't gather 444 keys, rescheduling (('read-e7c1646f42a971c9f96afbc29294f0af', 50), ('read-e7c1646f42a971c9f96afbc29294f0af', 59), ('read-e7c1646f42a971c9f96afbc29294f0af', 306), ('read-e7c1646f42a971c9f96afbc29294f0af', 77), ('read-e7c1646f42a971c9f96afbc29294f0af', 315), ('read-9e8a220db3db5f2989593b5b681f8b5e', 1), ('read-9e8a220db3db5f2989593b5b681f8b5e', 10), ('read-9e8a220db3db5f2989593b5b681f8b5e', 19), ('read-9e8a220db3db5f2989593b5b681f8b5e', 28), ('read-9e8a220db3db5f2989593b5b681f8b5e', 37), ('read-e7c1646f42a971c9f96afbc29294f0af', 171), ('read-e7c1646f42a971c9f96afbc29294f0af', 180), ('read-e7c1646f42a971c9f96afbc29294f0af', 189), ('read-e7c1646f42a971c9f96afbc29294f0af', 198), ('read-e7c1646f42a971c9f96afbc29294f0af', 207), ('read-9e8a220db3db5f2989593b5b681f8b5e', 131), ('read-9e8a220db3db5f2989593b5b681f8b5e', 140), ('read-e7c1646f42a971c9f96afbc29294f0af', 36), ('read-9e8a220db3db5f2989593b5b681f8b5e', 149), ('read-e7c1646f42a971c9f96afbc29294f0af', 45), ('read-e7c1646f42a971c9f96afbc29294f0af', 54), ('read-e7c1646f42a971c9f96afbc29294f0af', 292), ('read-e7c1646f42a971c9f96afbc29294f0af', 63), ('read-e7c1646f42a971c9f96afbc29294f0af', 301), ('read-e7c1646f42a971c9f96afbc29294f0af', 72), ('read-e7c1646f42a971c9f96afbc29294f0af', 310), ('read-9e8a220db3db5f2989593b5b681f8b5e', 5), ('read-9e8a220db3db5f2989593b5b681f8b5e', 14), ('read-9e8a220db3db5f2989593b5b681f8b5e', 23), ('read-e7c1646f42a971c9f96afbc29294f0af', 157), ('read-9e8a220db3db5f2989593b5b681f8b5e', 32), ('read-e7c1646f42a971c9f96afbc29294f0af', 166), ('read-e7c1646f42a971c9f96afbc29294f0af', 175), ('read-e7c1646f42a971c9f96afbc29294f0af', 184), ('read-e7c1646f42a971c9f96afbc29294f0af', 193), ('read-9e8a220db3db5f2989593b5b681f8b5e', 117), ('read-9e8a220db3db5f2989593b5b681f8b5e', 126), ('read-e7c1646f42a971c9f96afbc29294f0af', 22), ('read-9e8a220db3db5f2989593b5b681f8b5e', 135), ('read-e7c1646f42a971c9f96afbc29294f0af', 31), ('read-9e8a220db3db5f2989593b5b681f8b5e', 144), ('read-e7c1646f42a971c9f96afbc29294f0af', 40), ('read-e7c1646f42a971c9f96afbc29294f0af', 49), ('read-e7c1646f42a971c9f96afbc29294f0af', 287), ('read-e7c1646f42a971c9f96afbc29294f0af', 58), ('read-e7c1646f42a971c9f96afbc29294f0af', 296), ('read-e7c1646f42a971c9f96afbc29294f0af', 305), ('read-e7c1646f42a971c9f96afbc29294f0af', 314), ('read-9e8a220db3db5f2989593b5b681f8b5e', 0), ('read-9e8a220db3db5f2989593b5b681f8b5e', 18), ('read-e7c1646f42a971c9f96afbc29294f0af', 152), ('read-e7c1646f42a971c9f96afbc29294f0af', 161), ('read-e7c1646f42a971c9f96afbc29294f0af', 170), ('read-e7c1646f42a971c9f96afbc29294f0af', 179), ('read-e7c1646f42a971c9f96afbc29294f0af', 188), ('read-9e8a220db3db5f2989593b5b681f8b5e', 112), ('read-9e8a220db3db5f2989593b5b681f8b5e', 121), ('read-e7c1646f42a971c9f96afbc29294f0af', 17), ('read-9e8a220db3db5f2989593b5b681f8b5e', 130), ('read-e7c1646f42a971c9f96afbc29294f0af', 26), ('read-9e8a220db3db5f2989593b5b681f8b5e', 139), ('read-e7c1646f42a971c9f96afbc29294f0af', 35), ('read-e7c1646f42a971c9f96afbc29294f0af', 273), ('read-9e8a220db3db5f2989593b5b681f8b5e', 148), ('read-e7c1646f42a971c9f96afbc29294f0af', 44), ('read-e7c1646f42a971c9f96afbc29294f0af', 282), ('read-e7c1646f42a971c9f96afbc29294f0af', 53), ('read-e7c1646f42a971c9f96afbc29294f0af', 291), ('read-e7c1646f42a971c9f96afbc29294f0af', 300), ('read-e7c1646f42a971c9f96afbc29294f0af', 309), ('read-9e8a220db3db5f2989593b5b681f8b5e', 4), ('read-e7c1646f42a971c9f96afbc29294f0af', 138), ('read-9e8a220db3db5f2989593b5b681f8b5e', 13), ('read-e7c1646f42a971c9f96afbc29294f0af', 147), ('read-e7c1646f42a971c9f96afbc29294f0af', 156), ('read-e7c1646f42a971c9f96afbc29294f0af', 165), ('read-e7c1646f42a971c9f96afbc29294f0af', 174), ('read-9e8a220db3db5f2989593b5b681f8b5e', 107), ('read-e7c1646f42a971c9f96afbc29294f0af', 3), ('read-9e8a220db3db5f2989593b5b681f8b5e', 116), ('read-e7c1646f42a971c9f96afbc29294f0af', 12), ('read-9e8a220db3db5f2989593b5b681f8b5e', 125), ('read-e7c1646f42a971c9f96afbc29294f0af', 21), ('read-9e8a220db3db5f2989593b5b681f8b5e', 134), ('read-e7c1646f42a971c9f96afbc29294f0af', 30), ('read-e7c1646f42a971c9f96afbc29294f0af', 268), ('read-e7c1646f42a971c9f96afbc29294f0af', 39), ('read-e7c1646f42a971c9f96afbc29294f0af', 277), ('read-e7c1646f42a971c9f96afbc29294f0af', 286), ('read-e7c1646f42a971c9f96afbc29294f0af', 295), ('read-e7c1646f42a971c9f96afbc29294f0af', 133), ('read-e7c1646f42a971c9f96afbc29294f0af', 142), ('read-e7c1646f42a971c9f96afbc29294f0af', 151), ('read-e7c1646f42a971c9f96afbc29294f0af', 160), ('read-e7c1646f42a971c9f96afbc29294f0af', 169), ('read-9e8a220db3db5f2989593b5b681f8b5e', 84), ('read-9e8a220db3db5f2989593b5b681f8b5e', 93), ('read-9e8a220db3db5f2989593b5b681f8b5e', 102), ('read-9e8a220db3db5f2989593b5b681f8b5e', 111), ('read-e7c1646f42a971c9f96afbc29294f0af', 7), ('read-9e8a220db3db5f2989593b5b681f8b5e', 120), ('read-e7c1646f42a971c9f96afbc29294f0af', 16), ('read-e7c1646f42a971c9f96afbc29294f0af', 254), ('read-e7c1646f42a971c9f96afbc29294f0af', 25), ('read-e7c1646f42a971c9f96afbc29294f0af', 263), ('read-e7c1646f42a971c9f96afbc29294f0af', 34), ('read-e7c1646f42a971c9f96afbc29294f0af', 272), ('read-e7c1646f42a971c9f96afbc29294f0af', 281), ('read-e7c1646f42a971c9f96afbc29294f0af', 290), ('read-e7c1646f42a971c9f96afbc29294f0af', 119), ('read-e7c1646f42a971c9f96afbc29294f0af', 128), ('read-e7c1646f42a971c9f96afbc29294f0af', 137), ('read-e7c1646f42a971c9f96afbc29294f0af', 146), ('read-e7c1646f42a971c9f96afbc29294f0af', 155), ('read-9e8a220db3db5f2989593b5b681f8b5e', 79), ('read-9e8a220db3db5f2989593b5b681f8b5e', 88), ('read-9e8a220db3db5f2989593b5b681f8b5e', 106), ('read-e7c1646f42a971c9f96afbc29294f0af', 2), ('read-e7c1646f42a971c9f96afbc29294f0af', 240), ('read-9e8a220db3db5f2989593b5b681f8b5e', 115), ('read-e7c1646f42a971c9f96afbc29294f0af', 11), ('read-e7c1646f42a971c9f96afbc29294f0af', 249), ('read-e7c1646f42a971c9f96afbc29294f0af', 20), ('read-e7c1646f42a971c9f96afbc29294f0af', 258), ('read-e7c1646f42a971c9f96afbc29294f0af', 267), ('read-e7c1646f42a971c9f96afbc29294f0af', 276), ('read-e7c1646f42a971c9f96afbc29294f0af', 105), ('read-e7c1646f42a971c9f96afbc29294f0af', 114), ('read-e7c1646f42a971c9f96afbc29294f0af', 123), ('read-e7c1646f42a971c9f96afbc29294f0af', 132), ('read-e7c1646f42a971c9f96afbc29294f0af', 141), ('read-9e8a220db3db5f2989593b5b681f8b5e', 65), ('read-9e8a220db3db5f2989593b5b681f8b5e', 74), ('read-9e8a220db3db5f2989593b5b681f8b5e', 83), ('read-9e8a220db3db5f2989593b5b681f8b5e', 92), ('read-9e8a220db3db5f2989593b5b681f8b5e', 101), ('read-e7c1646f42a971c9f96afbc29294f0af', 235), ('read-e7c1646f42a971c9f96afbc29294f0af', 6), ('read-e7c1646f42a971c9f96afbc29294f0af', 244), ('read-e7c1646f42a971c9f96afbc29294f0af', 253), ('read-e7c1646f42a971c9f96afbc29294f0af', 262), ('read-e7c1646f42a971c9f96afbc29294f0af', 271), ('read-e7c1646f42a971c9f96afbc29294f0af', 100), ('read-e7c1646f42a971c9f96afbc29294f0af', 109), ('read-e7c1646f42a971c9f96afbc29294f0af', 118), ('read-e7c1646f42a971c9f96afbc29294f0af', 127), ('read-e7c1646f42a971c9f96afbc29294f0af', 136), ('read-9e8a220db3db5f2989593b5b681f8b5e', 60), ('read-9e8a220db3db5f2989593b5b681f8b5e', 69), ('read-9e8a220db3db5f2989593b5b681f8b5e', 87), ('read-e7c1646f42a971c9f96afbc29294f0af', 221), ('read-e7c1646f42a971c9f96afbc29294f0af', 230), ('read-e7c1646f42a971c9f96afbc29294f0af', 1), ('read-e7c1646f42a971c9f96afbc29294f0af', 239), ('read-e7c1646f42a971c9f96afbc29294f0af', 248), ('read-e7c1646f42a971c9f96afbc29294f0af', 257), ('read-e7c1646f42a971c9f96afbc29294f0af', 86), ('read-e7c1646f42a971c9f96afbc29294f0af', 104), ('read-e7c1646f42a971c9f96afbc29294f0af', 113), ('read-e7c1646f42a971c9f96afbc29294f0af', 122), ('read-9e8a220db3db5f2989593b5b681f8b5e', 46), ('read-9e8a220db3db5f2989593b5b681f8b5e', 55), ('read-9e8a220db3db5f2989593b5b681f8b5e', 73), ('read-9e8a220db3db5f2989593b5b681f8b5e', 82), ('read-e7c1646f42a971c9f96afbc29294f0af', 216), ('read-e7c1646f42a971c9f96afbc29294f0af', 225), ('read-e7c1646f42a971c9f96afbc29294f0af', 234), ('read-e7c1646f42a971c9f96afbc29294f0af', 243), ('read-e7c1646f42a971c9f96afbc29294f0af', 252), ('read-e7c1646f42a971c9f96afbc29294f0af', 81), ('read-e7c1646f42a971c9f96afbc29294f0af', 90), ('read-e7c1646f42a971c9f96afbc29294f0af', 108), ('read-e7c1646f42a971c9f96afbc29294f0af', 117), ('read-9e8a220db3db5f2989593b5b681f8b5e', 41), ('read-9e8a220db3db5f2989593b5b681f8b5e', 50), ('read-9e8a220db3db5f2989593b5b681f8b5e', 59), ('read-e7c1646f42a971c9f96afbc29294f0af', 202), ('read-9e8a220db3db5f2989593b5b681f8b5e', 77), ('read-e7c1646f42a971c9f96afbc29294f0af', 211), ('read-e7c1646f42a971c9f96afbc29294f0af', 220), ('read-e7c1646f42a971c9f96afbc29294f0af', 229), ('read-e7c1646f42a971c9f96afbc29294f0af', 238), ('read-e7c1646f42a971c9f96afbc29294f0af', 67), ('read-e7c1646f42a971c9f96afbc29294f0af', 76), ('read-e7c1646f42a971c9f96afbc29294f0af', 94), ('read-e7c1646f42a971c9f96afbc29294f0af', 103), ('read-9e8a220db3db5f2989593b5b681f8b5e', 27), ('read-9e8a220db3db5f2989593b5b681f8b5e', 36), ('read-9e8a220db3db5f2989593b5b681f8b5e', 45), ('read-9e8a220db3db5f2989593b5b681f8b5e', 54), ('read-9e8a220db3db5f2989593b5b681f8b5e', 63), ('read-e7c1646f42a971c9f96afbc29294f0af', 197), ('read-e7c1646f42a971c9f96afbc29294f0af', 206), ('read-e7c1646f42a971c9f96afbc29294f0af', 215), ('read-e7c1646f42a971c9f96afbc29294f0af', 224), ('read-e7c1646f42a971c9f96afbc29294f0af', 233), ('read-e7c1646f42a971c9f96afbc29294f0af', 62), ('read-e7c1646f42a971c9f96afbc29294f0af', 80), ('read-e7c1646f42a971c9f96afbc29294f0af', 89), ('read-e7c1646f42a971c9f96afbc29294f0af', 98), ('read-9e8a220db3db5f2989593b5b681f8b5e', 22), ('read-9e8a220db3db5f2989593b5b681f8b5e', 31), ('read-9e8a220db3db5f2989593b5b681f8b5e', 40), ('read-9e8a220db3db5f2989593b5b681f8b5e', 49), ('read-e7c1646f42a971c9f96afbc29294f0af', 183), ('read-9e8a220db3db5f2989593b5b681f8b5e', 58), ('read-e7c1646f42a971c9f96afbc29294f0af', 192), ('read-e7c1646f42a971c9f96afbc29294f0af', 201), ('read-e7c1646f42a971c9f96afbc29294f0af', 210), ('read-e7c1646f42a971c9f96afbc29294f0af', 219), ('read-9e8a220db3db5f2989593b5b681f8b5e', 143), ('read-e7c1646f42a971c9f96afbc29294f0af', 48), ('read-e7c1646f42a971c9f96afbc29294f0af', 57), ('read-e7c1646f42a971c9f96afbc29294f0af', 304), ('read-e7c1646f42a971c9f96afbc29294f0af', 75), ('read-e7c1646f42a971c9f96afbc29294f0af', 313), ('read-e7c1646f42a971c9f96afbc29294f0af', 84), ('read-9e8a220db3db5f2989593b5b681f8b5e', 8), ('read-9e8a220db3db5f2989593b5b681f8b5e', 17), ('read-9e8a220db3db5f2989593b5b681f8b5e', 26), ('read-9e8a220db3db5f2989593b5b681f8b5e', 35), ('read-9e8a220db3db5f2989593b5b681f8b5e', 44), ('read-e7c1646f42a971c9f96afbc29294f0af', 178), ('read-e7c1646f42a971c9f96afbc29294f0af', 187), ('read-e7c1646f42a971c9f96afbc29294f0af', 196), ('read-e7c1646f42a971c9f96afbc29294f0af', 205), ('read-9e8a220db3db5f2989593b5b681f8b5e', 129), ('read-e7c1646f42a971c9f96afbc29294f0af', 214), ('read-9e8a220db3db5f2989593b5b681f8b5e', 138), ('read-9e8a220db3db5f2989593b5b681f8b5e', 147), ('read-e7c1646f42a971c9f96afbc29294f0af', 43), ('read-e7c1646f42a971c9f96afbc29294f0af', 52), ('read-e7c1646f42a971c9f96afbc29294f0af', 61), ('read-e7c1646f42a971c9f96afbc29294f0af', 299), ('read-e7c1646f42a971c9f96afbc29294f0af', 308), ('read-e7c1646f42a971c9f96afbc29294f0af', 317), ('read-9e8a220db3db5f2989593b5b681f8b5e', 3), ('read-9e8a220db3db5f2989593b5b681f8b5e', 12), ('read-9e8a220db3db5f2989593b5b681f8b5e', 21), ('read-9e8a220db3db5f2989593b5b681f8b5e', 30), ('read-e7c1646f42a971c9f96afbc29294f0af', 164), ('read-e7c1646f42a971c9f96afbc29294f0af', 173), ('read-e7c1646f42a971c9f96afbc29294f0af', 182), ('read-e7c1646f42a971c9f96afbc29294f0af', 191), ('read-e7c1646f42a971c9f96afbc29294f0af', 200), ('read-9e8a220db3db5f2989593b5b681f8b5e', 124), ('read-9e8a220db3db5f2989593b5b681f8b5e', 133), ('read-e7c1646f42a971c9f96afbc29294f0af', 29), ('read-9e8a220db3db5f2989593b5b681f8b5e', 142), ('read-e7c1646f42a971c9f96afbc29294f0af', 38), ('read-9e8a220db3db5f2989593b5b681f8b5e', 151), ('read-e7c1646f42a971c9f96afbc29294f0af', 47), ('read-e7c1646f42a971c9f96afbc29294f0af', 285), ('read-e7c1646f42a971c9f96afbc29294f0af', 56), ('read-e7c1646f42a971c9f96afbc29294f0af', 294), ('read-e7c1646f42a971c9f96afbc29294f0af', 65), ('read-e7c1646f42a971c9f96afbc29294f0af', 303), ('read-e7c1646f42a971c9f96afbc29294f0af', 312), ('read-9e8a220db3db5f2989593b5b681f8b5e', 7), ('read-9e8a220db3db5f2989593b5b681f8b5e', 16), ('read-e7c1646f42a971c9f96afbc29294f0af', 150), ('read-9e8a220db3db5f2989593b5b681f8b5e', 25), ('read-e7c1646f42a971c9f96afbc29294f0af', 159), ('read-e7c1646f42a971c9f96afbc29294f0af', 168), ('read-e7c1646f42a971c9f96afbc29294f0af', 177), ('read-e7c1646f42a971c9f96afbc29294f0af', 186), ('read-9e8a220db3db5f2989593b5b681f8b5e', 110), ('read-9e8a220db3db5f2989593b5b681f8b5e', 119), ('read-e7c1646f42a971c9f96afbc29294f0af', 15), ('read-9e8a220db3db5f2989593b5b681f8b5e', 128), ('read-e7c1646f42a971c9f96afbc29294f0af', 24), ('read-9e8a220db3db5f2989593b5b681f8b5e', 137), ('read-e7c1646f42a971c9f96afbc29294f0af', 33), ('read-9e8a220db3db5f2989593b5b681f8b5e', 146), ('read-e7c1646f42a971c9f96afbc29294f0af', 42), ('read-e7c1646f42a971c9f96afbc29294f0af', 280), ('read-e7c1646f42a971c9f96afbc29294f0af', 51), ('read-e7c1646f42a971c9f96afbc29294f0af', 289), ('read-e7c1646f42a971c9f96afbc29294f0af', 298), ('read-e7c1646f42a971c9f96afbc29294f0af', 307), ('read-e7c1646f42a971c9f96afbc29294f0af', 316), ('read-9e8a220db3db5f2989593b5b681f8b5e', 2), ('read-9e8a220db3db5f2989593b5b681f8b5e', 11), ('read-e7c1646f42a971c9f96afbc29294f0af', 145), ('read-e7c1646f42a971c9f96afbc29294f0af', 154), ('read-e7c1646f42a971c9f96afbc29294f0af', 163), ('read-e7c1646f42a971c9f96afbc29294f0af', 172), ('read-e7c1646f42a971c9f96afbc29294f0af', 181), ('read-9e8a220db3db5f2989593b5b681f8b5e', 105), ('read-9e8a220db3db5f2989593b5b681f8b5e', 114), ('read-e7c1646f42a971c9f96afbc29294f0af', 10), ('read-9e8a220db3db5f2989593b5b681f8b5e', 123), ('read-e7c1646f42a971c9f96afbc29294f0af', 19), ('read-9e8a220db3db5f2989593b5b681f8b5e', 132), ('read-e7c1646f42a971c9f96afbc29294f0af', 28), ('read-e7c1646f42a971c9f96afbc29294f0af', 266), ('read-9e8a220db3db5f2989593b5b681f8b5e', 141), ('read-e7c1646f42a971c9f96afbc29294f0af', 37), ('read-e7c1646f42a971c9f96afbc29294f0af', 275), ('read-e7c1646f42a971c9f96afbc29294f0af', 46), ('read-e7c1646f42a971c9f96afbc29294f0af', 284), ('read-e7c1646f42a971c9f96afbc29294f0af', 293), ('read-e7c1646f42a971c9f96afbc29294f0af', 302), ('read-e7c1646f42a971c9f96afbc29294f0af', 131), ('read-9e8a220db3db5f2989593b5b681f8b5e', 6), ('read-e7c1646f42a971c9f96afbc29294f0af', 140), ('read-e7c1646f42a971c9f96afbc29294f0af', 149), ('read-e7c1646f42a971c9f96afbc29294f0af', 158), ('read-e7c1646f42a971c9f96afbc29294f0af', 167), ('read-9e8a220db3db5f2989593b5b681f8b5e', 91), ('read-9e8a220db3db5f2989593b5b681f8b5e', 100), ('read-9e8a220db3db5f2989593b5b681f8b5e', 109), ('read-e7c1646f42a971c9f96afbc29294f0af', 5), ('read-9e8a220db3db5f2989593b5b681f8b5e', 118), ('read-e7c1646f42a971c9f96afbc29294f0af', 14), ('read-9e8a220db3db5f2989593b5b681f8b5e', 127), ('read-e7c1646f42a971c9f96afbc29294f0af', 23), ('read-e7c1646f42a971c9f96afbc29294f0af', 261), ('read-e7c1646f42a971c9f96afbc29294f0af', 32), ('read-e7c1646f42a971c9f96afbc29294f0af', 270), ('read-e7c1646f42a971c9f96afbc29294f0af', 279), ('read-e7c1646f42a971c9f96afbc29294f0af', 288), ('read-e7c1646f42a971c9f96afbc29294f0af', 297), ('read-e7c1646f42a971c9f96afbc29294f0af', 126), ('read-e7c1646f42a971c9f96afbc29294f0af', 135), ('read-e7c1646f42a971c9f96afbc29294f0af', 144), ('read-e7c1646f42a971c9f96afbc29294f0af', 153), ('read-e7c1646f42a971c9f96afbc29294f0af', 162), ('read-9e8a220db3db5f2989593b5b681f8b5e', 86), ('read-9e8a220db3db5f2989593b5b681f8b5e', 95), ('read-9e8a220db3db5f2989593b5b681f8b5e', 104), ('read-e7c1646f42a971c9f96afbc29294f0af', 0), ('read-9e8a220db3db5f2989593b5b681f8b5e', 113), ('read-e7c1646f42a971c9f96afbc29294f0af', 9), ('read-e7c1646f42a971c9f96afbc29294f0af', 247), ('read-9e8a220db3db5f2989593b5b681f8b5e', 122), ('read-e7c1646f42a971c9f96afbc29294f0af', 18), ('read-e7c1646f42a971c9f96afbc29294f0af', 256), ('read-e7c1646f42a971c9f96afbc29294f0af', 27), ('read-e7c1646f42a971c9f96afbc29294f0af', 265), ('read-e7c1646f42a971c9f96afbc29294f0af', 274), ('read-e7c1646f42a971c9f96afbc29294f0af', 283), ('read-e7c1646f42a971c9f96afbc29294f0af', 112), ('read-e7c1646f42a971c9f96afbc29294f0af', 121), ('read-e7c1646f42a971c9f96afbc29294f0af', 130), ('read-e7c1646f42a971c9f96afbc29294f0af', 139), ('read-e7c1646f42a971c9f96afbc29294f0af', 148), ('read-9e8a220db3db5f2989593b5b681f8b5e', 81), ('read-9e8a220db3db5f2989593b5b681f8b5e', 90), ('read-9e8a220db3db5f2989593b5b681f8b5e', 108), ('read-e7c1646f42a971c9f96afbc29294f0af', 4), ('read-e7c1646f42a971c9f96afbc29294f0af', 242), ('read-e7c1646f42a971c9f96afbc29294f0af', 13), ('read-e7c1646f42a971c9f96afbc29294f0af', 251), ('read-e7c1646f42a971c9f96afbc29294f0af', 260), ('read-e7c1646f42a971c9f96afbc29294f0af', 269), ('read-e7c1646f42a971c9f96afbc29294f0af', 278), ('read-e7c1646f42a971c9f96afbc29294f0af', 107), ('read-e7c1646f42a971c9f96afbc29294f0af', 116), ('read-e7c1646f42a971c9f96afbc29294f0af', 125), ('read-e7c1646f42a971c9f96afbc29294f0af', 134), ('read-e7c1646f42a971c9f96afbc29294f0af', 143), ('read-9e8a220db3db5f2989593b5b681f8b5e', 67), ('read-9e8a220db3db5f2989593b5b681f8b5e', 76), ('read-9e8a220db3db5f2989593b5b681f8b5e', 85), ('read-9e8a220db3db5f2989593b5b681f8b5e', 94), ('read-e7c1646f42a971c9f96afbc29294f0af', 228), ('read-9e8a220db3db5f2989593b5b681f8b5e', 103), ('read-e7c1646f42a971c9f96afbc29294f0af', 237), ('read-e7c1646f42a971c9f96afbc29294f0af', 246), ('read-e7c1646f42a971c9f96afbc29294f0af', 255), ('read-e7c1646f42a971c9f96afbc29294f0af', 264), ('read-e7c1646f42a971c9f96afbc29294f0af', 93), ('read-e7c1646f42a971c9f96afbc29294f0af', 102), ('read-e7c1646f42a971c9f96afbc29294f0af', 111), ('read-e7c1646f42a971c9f96afbc29294f0af', 120), ('read-e7c1646f42a971c9f96afbc29294f0af', 129), ('read-9e8a220db3db5f2989593b5b681f8b5e', 53), ('read-9e8a220db3db5f2989593b5b681f8b5e', 62), ('read-9e8a220db3db5f2989593b5b681f8b5e', 71), ('read-9e8a220db3db5f2989593b5b681f8b5e', 80), ('read-9e8a220db3db5f2989593b5b681f8b5e', 89), ('read-e7c1646f42a971c9f96afbc29294f0af', 223), ('read-e7c1646f42a971c9f96afbc29294f0af', 232), ('read-e7c1646f42a971c9f96afbc29294f0af', 241), ('read-e7c1646f42a971c9f96afbc29294f0af', 250), ('read-e7c1646f42a971c9f96afbc29294f0af', 259), ('read-e7c1646f42a971c9f96afbc29294f0af', 88), ('read-e7c1646f42a971c9f96afbc29294f0af', 106), ('read-e7c1646f42a971c9f96afbc29294f0af', 115), ('read-9e8a220db3db5f2989593b5b681f8b5e', 39), ('read-e7c1646f42a971c9f96afbc29294f0af', 124), ('read-9e8a220db3db5f2989593b5b681f8b5e', 48), ('read-9e8a220db3db5f2989593b5b681f8b5e', 57), ('read-9e8a220db3db5f2989593b5b681f8b5e', 75), ('read-e7c1646f42a971c9f96afbc29294f0af', 209), ('read-e7c1646f42a971c9f96afbc29294f0af', 218), ('read-e7c1646f42a971c9f96afbc29294f0af', 227), ('read-e7c1646f42a971c9f96afbc29294f0af', 236), ('read-e7c1646f42a971c9f96afbc29294f0af', 245), ('read-e7c1646f42a971c9f96afbc29294f0af', 74), ('read-e7c1646f42a971c9f96afbc29294f0af', 101), ('read-e7c1646f42a971c9f96afbc29294f0af', 110), ('read-9e8a220db3db5f2989593b5b681f8b5e', 34), ('read-9e8a220db3db5f2989593b5b681f8b5e', 43), ('read-9e8a220db3db5f2989593b5b681f8b5e', 52), ('read-9e8a220db3db5f2989593b5b681f8b5e', 61), ('read-e7c1646f42a971c9f96afbc29294f0af', 195), ('read-e7c1646f42a971c9f96afbc29294f0af', 204), ('read-e7c1646f42a971c9f96afbc29294f0af', 213), ('read-e7c1646f42a971c9f96afbc29294f0af', 222), ('read-e7c1646f42a971c9f96afbc29294f0af', 231), ('read-e7c1646f42a971c9f96afbc29294f0af', 60), ('read-e7c1646f42a971c9f96afbc29294f0af', 69), ('read-e7c1646f42a971c9f96afbc29294f0af', 87), ('read-e7c1646f42a971c9f96afbc29294f0af', 96), ('read-9e8a220db3db5f2989593b5b681f8b5e', 20), ('read-9e8a220db3db5f2989593b5b681f8b5e', 29), ('read-9e8a220db3db5f2989593b5b681f8b5e', 38), ('read-9e8a220db3db5f2989593b5b681f8b5e', 47), ('read-9e8a220db3db5f2989593b5b681f8b5e', 56), ('read-e7c1646f42a971c9f96afbc29294f0af', 190), ('read-e7c1646f42a971c9f96afbc29294f0af', 199), ('read-e7c1646f42a971c9f96afbc29294f0af', 208), ('read-e7c1646f42a971c9f96afbc29294f0af', 217), ('read-e7c1646f42a971c9f96afbc29294f0af', 226), ('read-9e8a220db3db5f2989593b5b681f8b5e', 150), ('read-e7c1646f42a971c9f96afbc29294f0af', 55), ('read-e7c1646f42a971c9f96afbc29294f0af', 311), ('read-e7c1646f42a971c9f96afbc29294f0af', 82), ('read-e7c1646f42a971c9f96afbc29294f0af', 91), ('read-9e8a220db3db5f2989593b5b681f8b5e', 15), ('read-9e8a220db3db5f2989593b5b681f8b5e', 24), ('read-9e8a220db3db5f2989593b5b681f8b5e', 33), ('read-9e8a220db3db5f2989593b5b681f8b5e', 42), ('read-e7c1646f42a971c9f96afbc29294f0af', 176), ('read-9e8a220db3db5f2989593b5b681f8b5e', 51), ('read-e7c1646f42a971c9f96afbc29294f0af', 185), ('read-e7c1646f42a971c9f96afbc29294f0af', 194), ('read-e7c1646f42a971c9f96afbc29294f0af', 203), ('read-e7c1646f42a971c9f96afbc29294f0af', 212), ('read-9e8a220db3db5f2989593b5b681f8b5e', 136), ('read-9e8a220db3db5f2989593b5b681f8b5e', 145), ('read-e7c1646f42a971c9f96afbc29294f0af', 41))\n",
      "2025-05-13 00:55:06,442 - distributed.client - WARNING - Couldn't gather 404 keys, rescheduling (('read-e7c1646f42a971c9f96afbc29294f0af', 50), ('read-e7c1646f42a971c9f96afbc29294f0af', 68), ('read-e7c1646f42a971c9f96afbc29294f0af', 306), ('read-e7c1646f42a971c9f96afbc29294f0af', 315), ('read-9e8a220db3db5f2989593b5b681f8b5e', 1), ('read-9e8a220db3db5f2989593b5b681f8b5e', 10), ('read-9e8a220db3db5f2989593b5b681f8b5e', 19), ('read-9e8a220db3db5f2989593b5b681f8b5e', 28), ('read-9e8a220db3db5f2989593b5b681f8b5e', 37), ('read-e7c1646f42a971c9f96afbc29294f0af', 171), ('read-e7c1646f42a971c9f96afbc29294f0af', 180), ('read-e7c1646f42a971c9f96afbc29294f0af', 189), ('read-e7c1646f42a971c9f96afbc29294f0af', 198), ('read-e7c1646f42a971c9f96afbc29294f0af', 207), ('read-9e8a220db3db5f2989593b5b681f8b5e', 131), ('read-9e8a220db3db5f2989593b5b681f8b5e', 140), ('read-e7c1646f42a971c9f96afbc29294f0af', 36), ('read-9e8a220db3db5f2989593b5b681f8b5e', 149), ('read-e7c1646f42a971c9f96afbc29294f0af', 45), ('read-e7c1646f42a971c9f96afbc29294f0af', 292), ('read-e7c1646f42a971c9f96afbc29294f0af', 63), ('read-e7c1646f42a971c9f96afbc29294f0af', 301), ('read-e7c1646f42a971c9f96afbc29294f0af', 310), ('read-9e8a220db3db5f2989593b5b681f8b5e', 5), ('read-9e8a220db3db5f2989593b5b681f8b5e', 14), ('read-9e8a220db3db5f2989593b5b681f8b5e', 23), ('read-e7c1646f42a971c9f96afbc29294f0af', 157), ('read-9e8a220db3db5f2989593b5b681f8b5e', 32), ('read-e7c1646f42a971c9f96afbc29294f0af', 166), ('read-e7c1646f42a971c9f96afbc29294f0af', 175), ('read-e7c1646f42a971c9f96afbc29294f0af', 184), ('read-e7c1646f42a971c9f96afbc29294f0af', 193), ('read-9e8a220db3db5f2989593b5b681f8b5e', 117), ('read-9e8a220db3db5f2989593b5b681f8b5e', 126), ('read-e7c1646f42a971c9f96afbc29294f0af', 22), ('read-9e8a220db3db5f2989593b5b681f8b5e', 135), ('read-e7c1646f42a971c9f96afbc29294f0af', 31), ('read-9e8a220db3db5f2989593b5b681f8b5e', 144), ('read-e7c1646f42a971c9f96afbc29294f0af', 40), ('read-e7c1646f42a971c9f96afbc29294f0af', 49), ('read-e7c1646f42a971c9f96afbc29294f0af', 287), ('read-e7c1646f42a971c9f96afbc29294f0af', 58), ('read-e7c1646f42a971c9f96afbc29294f0af', 296), ('read-e7c1646f42a971c9f96afbc29294f0af', 305), ('read-e7c1646f42a971c9f96afbc29294f0af', 314), ('read-9e8a220db3db5f2989593b5b681f8b5e', 0), ('read-9e8a220db3db5f2989593b5b681f8b5e', 9), ('read-9e8a220db3db5f2989593b5b681f8b5e', 18), ('read-e7c1646f42a971c9f96afbc29294f0af', 152), ('read-e7c1646f42a971c9f96afbc29294f0af', 161), ('read-e7c1646f42a971c9f96afbc29294f0af', 170), ('read-e7c1646f42a971c9f96afbc29294f0af', 179), ('read-e7c1646f42a971c9f96afbc29294f0af', 188), ('read-9e8a220db3db5f2989593b5b681f8b5e', 112), ('read-9e8a220db3db5f2989593b5b681f8b5e', 121), ('read-e7c1646f42a971c9f96afbc29294f0af', 17), ('read-9e8a220db3db5f2989593b5b681f8b5e', 130), ('read-e7c1646f42a971c9f96afbc29294f0af', 26), ('read-9e8a220db3db5f2989593b5b681f8b5e', 139), ('read-e7c1646f42a971c9f96afbc29294f0af', 35), ('read-e7c1646f42a971c9f96afbc29294f0af', 273), ('read-9e8a220db3db5f2989593b5b681f8b5e', 148), ('read-e7c1646f42a971c9f96afbc29294f0af', 44), ('read-e7c1646f42a971c9f96afbc29294f0af', 282), ('read-e7c1646f42a971c9f96afbc29294f0af', 291), ('read-e7c1646f42a971c9f96afbc29294f0af', 300), ('read-e7c1646f42a971c9f96afbc29294f0af', 309), ('read-9e8a220db3db5f2989593b5b681f8b5e', 4), ('read-e7c1646f42a971c9f96afbc29294f0af', 138), ('read-9e8a220db3db5f2989593b5b681f8b5e', 13), ('read-e7c1646f42a971c9f96afbc29294f0af', 147), ('read-e7c1646f42a971c9f96afbc29294f0af', 156), ('read-e7c1646f42a971c9f96afbc29294f0af', 165), ('read-e7c1646f42a971c9f96afbc29294f0af', 174), ('read-9e8a220db3db5f2989593b5b681f8b5e', 98), ('read-9e8a220db3db5f2989593b5b681f8b5e', 107), ('read-e7c1646f42a971c9f96afbc29294f0af', 3), ('read-9e8a220db3db5f2989593b5b681f8b5e', 116), ('read-e7c1646f42a971c9f96afbc29294f0af', 12), ('read-9e8a220db3db5f2989593b5b681f8b5e', 125), ('read-e7c1646f42a971c9f96afbc29294f0af', 21), ('read-9e8a220db3db5f2989593b5b681f8b5e', 134), ('read-e7c1646f42a971c9f96afbc29294f0af', 30), ('read-e7c1646f42a971c9f96afbc29294f0af', 268), ('read-e7c1646f42a971c9f96afbc29294f0af', 39), ('read-e7c1646f42a971c9f96afbc29294f0af', 277), ('read-e7c1646f42a971c9f96afbc29294f0af', 286), ('read-e7c1646f42a971c9f96afbc29294f0af', 295), ('read-e7c1646f42a971c9f96afbc29294f0af', 133), ('read-e7c1646f42a971c9f96afbc29294f0af', 142), ('read-e7c1646f42a971c9f96afbc29294f0af', 151), ('read-e7c1646f42a971c9f96afbc29294f0af', 160), ('read-e7c1646f42a971c9f96afbc29294f0af', 169), ('read-9e8a220db3db5f2989593b5b681f8b5e', 93), ('read-9e8a220db3db5f2989593b5b681f8b5e', 102), ('read-9e8a220db3db5f2989593b5b681f8b5e', 111), ('read-9e8a220db3db5f2989593b5b681f8b5e', 120), ('read-e7c1646f42a971c9f96afbc29294f0af', 16), ('read-e7c1646f42a971c9f96afbc29294f0af', 254), ('read-e7c1646f42a971c9f96afbc29294f0af', 25), ('read-e7c1646f42a971c9f96afbc29294f0af', 263), ('read-e7c1646f42a971c9f96afbc29294f0af', 34), ('read-e7c1646f42a971c9f96afbc29294f0af', 272), ('read-e7c1646f42a971c9f96afbc29294f0af', 281), ('read-e7c1646f42a971c9f96afbc29294f0af', 290), ('read-e7c1646f42a971c9f96afbc29294f0af', 119), ('read-e7c1646f42a971c9f96afbc29294f0af', 128), ('read-e7c1646f42a971c9f96afbc29294f0af', 137), ('read-e7c1646f42a971c9f96afbc29294f0af', 146), ('read-e7c1646f42a971c9f96afbc29294f0af', 155), ('read-9e8a220db3db5f2989593b5b681f8b5e', 97), ('read-9e8a220db3db5f2989593b5b681f8b5e', 106), ('read-e7c1646f42a971c9f96afbc29294f0af', 2), ('read-e7c1646f42a971c9f96afbc29294f0af', 240), ('read-9e8a220db3db5f2989593b5b681f8b5e', 115), ('read-e7c1646f42a971c9f96afbc29294f0af', 11), ('read-e7c1646f42a971c9f96afbc29294f0af', 249), ('read-e7c1646f42a971c9f96afbc29294f0af', 20), ('read-e7c1646f42a971c9f96afbc29294f0af', 258), ('read-e7c1646f42a971c9f96afbc29294f0af', 267), ('read-e7c1646f42a971c9f96afbc29294f0af', 276), ('read-e7c1646f42a971c9f96afbc29294f0af', 105), ('read-e7c1646f42a971c9f96afbc29294f0af', 114), ('read-e7c1646f42a971c9f96afbc29294f0af', 123), ('read-e7c1646f42a971c9f96afbc29294f0af', 132), ('read-e7c1646f42a971c9f96afbc29294f0af', 141), ('read-9e8a220db3db5f2989593b5b681f8b5e', 65), ('read-9e8a220db3db5f2989593b5b681f8b5e', 92), ('read-9e8a220db3db5f2989593b5b681f8b5e', 101), ('read-e7c1646f42a971c9f96afbc29294f0af', 235), ('read-e7c1646f42a971c9f96afbc29294f0af', 244), ('read-e7c1646f42a971c9f96afbc29294f0af', 253), ('read-e7c1646f42a971c9f96afbc29294f0af', 262), ('read-e7c1646f42a971c9f96afbc29294f0af', 271), ('read-e7c1646f42a971c9f96afbc29294f0af', 100), ('read-e7c1646f42a971c9f96afbc29294f0af', 109), ('read-e7c1646f42a971c9f96afbc29294f0af', 118), ('read-e7c1646f42a971c9f96afbc29294f0af', 127), ('read-e7c1646f42a971c9f96afbc29294f0af', 136), ('read-9e8a220db3db5f2989593b5b681f8b5e', 69), ('read-9e8a220db3db5f2989593b5b681f8b5e', 78), ('read-e7c1646f42a971c9f96afbc29294f0af', 221), ('read-9e8a220db3db5f2989593b5b681f8b5e', 96), ('read-e7c1646f42a971c9f96afbc29294f0af', 230), ('read-e7c1646f42a971c9f96afbc29294f0af', 1), ('read-e7c1646f42a971c9f96afbc29294f0af', 239), ('read-e7c1646f42a971c9f96afbc29294f0af', 248), ('read-e7c1646f42a971c9f96afbc29294f0af', 257), ('read-e7c1646f42a971c9f96afbc29294f0af', 86), ('read-e7c1646f42a971c9f96afbc29294f0af', 95), ('read-e7c1646f42a971c9f96afbc29294f0af', 104), ('read-e7c1646f42a971c9f96afbc29294f0af', 113), ('read-e7c1646f42a971c9f96afbc29294f0af', 122), ('read-9e8a220db3db5f2989593b5b681f8b5e', 46), ('read-e7c1646f42a971c9f96afbc29294f0af', 216), ('read-e7c1646f42a971c9f96afbc29294f0af', 225), ('read-e7c1646f42a971c9f96afbc29294f0af', 234), ('read-e7c1646f42a971c9f96afbc29294f0af', 243), ('read-e7c1646f42a971c9f96afbc29294f0af', 252), ('read-e7c1646f42a971c9f96afbc29294f0af', 99), ('read-e7c1646f42a971c9f96afbc29294f0af', 108), ('read-e7c1646f42a971c9f96afbc29294f0af', 117), ('read-9e8a220db3db5f2989593b5b681f8b5e', 41), ('read-9e8a220db3db5f2989593b5b681f8b5e', 50), ('read-9e8a220db3db5f2989593b5b681f8b5e', 68), ('read-e7c1646f42a971c9f96afbc29294f0af', 202), ('read-e7c1646f42a971c9f96afbc29294f0af', 211), ('read-e7c1646f42a971c9f96afbc29294f0af', 220), ('read-e7c1646f42a971c9f96afbc29294f0af', 229), ('read-e7c1646f42a971c9f96afbc29294f0af', 238), ('read-e7c1646f42a971c9f96afbc29294f0af', 85), ('read-e7c1646f42a971c9f96afbc29294f0af', 103), ('read-9e8a220db3db5f2989593b5b681f8b5e', 27), ('read-9e8a220db3db5f2989593b5b681f8b5e', 36), ('read-9e8a220db3db5f2989593b5b681f8b5e', 45), ('read-9e8a220db3db5f2989593b5b681f8b5e', 63), ('read-e7c1646f42a971c9f96afbc29294f0af', 197), ('read-e7c1646f42a971c9f96afbc29294f0af', 206), ('read-e7c1646f42a971c9f96afbc29294f0af', 215), ('read-e7c1646f42a971c9f96afbc29294f0af', 224), ('read-e7c1646f42a971c9f96afbc29294f0af', 233), ('read-e7c1646f42a971c9f96afbc29294f0af', 62), ('read-e7c1646f42a971c9f96afbc29294f0af', 80), ('read-9e8a220db3db5f2989593b5b681f8b5e', 22), ('read-9e8a220db3db5f2989593b5b681f8b5e', 31), ('read-9e8a220db3db5f2989593b5b681f8b5e', 40), ('read-9e8a220db3db5f2989593b5b681f8b5e', 49), ('read-e7c1646f42a971c9f96afbc29294f0af', 183), ('read-9e8a220db3db5f2989593b5b681f8b5e', 58), ('read-e7c1646f42a971c9f96afbc29294f0af', 192), ('read-e7c1646f42a971c9f96afbc29294f0af', 201), ('read-e7c1646f42a971c9f96afbc29294f0af', 210), ('read-e7c1646f42a971c9f96afbc29294f0af', 219), ('read-9e8a220db3db5f2989593b5b681f8b5e', 143), ('read-e7c1646f42a971c9f96afbc29294f0af', 48), ('read-e7c1646f42a971c9f96afbc29294f0af', 66), ('read-e7c1646f42a971c9f96afbc29294f0af', 304), ('read-e7c1646f42a971c9f96afbc29294f0af', 313), ('read-9e8a220db3db5f2989593b5b681f8b5e', 17), ('read-9e8a220db3db5f2989593b5b681f8b5e', 26), ('read-9e8a220db3db5f2989593b5b681f8b5e', 35), ('read-9e8a220db3db5f2989593b5b681f8b5e', 44), ('read-e7c1646f42a971c9f96afbc29294f0af', 178), ('read-e7c1646f42a971c9f96afbc29294f0af', 187), ('read-e7c1646f42a971c9f96afbc29294f0af', 196), ('read-e7c1646f42a971c9f96afbc29294f0af', 205), ('read-9e8a220db3db5f2989593b5b681f8b5e', 129), ('read-e7c1646f42a971c9f96afbc29294f0af', 214), ('read-9e8a220db3db5f2989593b5b681f8b5e', 138), ('read-9e8a220db3db5f2989593b5b681f8b5e', 147), ('read-e7c1646f42a971c9f96afbc29294f0af', 43), ('read-e7c1646f42a971c9f96afbc29294f0af', 299), ('read-e7c1646f42a971c9f96afbc29294f0af', 308), ('read-e7c1646f42a971c9f96afbc29294f0af', 79), ('read-e7c1646f42a971c9f96afbc29294f0af', 317), ('read-9e8a220db3db5f2989593b5b681f8b5e', 3), ('read-9e8a220db3db5f2989593b5b681f8b5e', 12), ('read-9e8a220db3db5f2989593b5b681f8b5e', 21), ('read-9e8a220db3db5f2989593b5b681f8b5e', 30), ('read-e7c1646f42a971c9f96afbc29294f0af', 164), ('read-e7c1646f42a971c9f96afbc29294f0af', 173), ('read-e7c1646f42a971c9f96afbc29294f0af', 182), ('read-e7c1646f42a971c9f96afbc29294f0af', 191), ('read-e7c1646f42a971c9f96afbc29294f0af', 200), ('read-9e8a220db3db5f2989593b5b681f8b5e', 124), ('read-9e8a220db3db5f2989593b5b681f8b5e', 133), ('read-e7c1646f42a971c9f96afbc29294f0af', 29), ('read-9e8a220db3db5f2989593b5b681f8b5e', 142), ('read-e7c1646f42a971c9f96afbc29294f0af', 38), ('read-9e8a220db3db5f2989593b5b681f8b5e', 151), ('read-e7c1646f42a971c9f96afbc29294f0af', 47), ('read-e7c1646f42a971c9f96afbc29294f0af', 285), ('read-e7c1646f42a971c9f96afbc29294f0af', 294), ('read-e7c1646f42a971c9f96afbc29294f0af', 65), ('read-e7c1646f42a971c9f96afbc29294f0af', 303), ('read-e7c1646f42a971c9f96afbc29294f0af', 312), ('read-9e8a220db3db5f2989593b5b681f8b5e', 16), ('read-e7c1646f42a971c9f96afbc29294f0af', 150), ('read-9e8a220db3db5f2989593b5b681f8b5e', 25), ('read-e7c1646f42a971c9f96afbc29294f0af', 159), ('read-e7c1646f42a971c9f96afbc29294f0af', 168), ('read-e7c1646f42a971c9f96afbc29294f0af', 177), ('read-e7c1646f42a971c9f96afbc29294f0af', 186), ('read-9e8a220db3db5f2989593b5b681f8b5e', 110), ('read-9e8a220db3db5f2989593b5b681f8b5e', 119), ('read-e7c1646f42a971c9f96afbc29294f0af', 15), ('read-9e8a220db3db5f2989593b5b681f8b5e', 128), ('read-e7c1646f42a971c9f96afbc29294f0af', 24), ('read-9e8a220db3db5f2989593b5b681f8b5e', 137), ('read-e7c1646f42a971c9f96afbc29294f0af', 33), ('read-9e8a220db3db5f2989593b5b681f8b5e', 146), ('read-e7c1646f42a971c9f96afbc29294f0af', 42), ('read-e7c1646f42a971c9f96afbc29294f0af', 280), ('read-e7c1646f42a971c9f96afbc29294f0af', 51), ('read-e7c1646f42a971c9f96afbc29294f0af', 289), ('read-e7c1646f42a971c9f96afbc29294f0af', 298), ('read-e7c1646f42a971c9f96afbc29294f0af', 307), ('read-e7c1646f42a971c9f96afbc29294f0af', 316), ('read-9e8a220db3db5f2989593b5b681f8b5e', 2), ('read-9e8a220db3db5f2989593b5b681f8b5e', 11), ('read-e7c1646f42a971c9f96afbc29294f0af', 145), ('read-e7c1646f42a971c9f96afbc29294f0af', 154), ('read-e7c1646f42a971c9f96afbc29294f0af', 163), ('read-e7c1646f42a971c9f96afbc29294f0af', 172), ('read-e7c1646f42a971c9f96afbc29294f0af', 181), ('read-9e8a220db3db5f2989593b5b681f8b5e', 105), ('read-9e8a220db3db5f2989593b5b681f8b5e', 114), ('read-e7c1646f42a971c9f96afbc29294f0af', 10), ('read-9e8a220db3db5f2989593b5b681f8b5e', 123), ('read-e7c1646f42a971c9f96afbc29294f0af', 19), ('read-9e8a220db3db5f2989593b5b681f8b5e', 132), ('read-e7c1646f42a971c9f96afbc29294f0af', 28), ('read-e7c1646f42a971c9f96afbc29294f0af', 266), ('read-9e8a220db3db5f2989593b5b681f8b5e', 141), ('read-e7c1646f42a971c9f96afbc29294f0af', 37), ('read-e7c1646f42a971c9f96afbc29294f0af', 275), ('read-e7c1646f42a971c9f96afbc29294f0af', 46), ('read-e7c1646f42a971c9f96afbc29294f0af', 284), ('read-e7c1646f42a971c9f96afbc29294f0af', 293), ('read-e7c1646f42a971c9f96afbc29294f0af', 302), ('read-e7c1646f42a971c9f96afbc29294f0af', 131), ('read-e7c1646f42a971c9f96afbc29294f0af', 140), ('read-e7c1646f42a971c9f96afbc29294f0af', 149), ('read-e7c1646f42a971c9f96afbc29294f0af', 158), ('read-e7c1646f42a971c9f96afbc29294f0af', 167), ('read-9e8a220db3db5f2989593b5b681f8b5e', 100), ('read-9e8a220db3db5f2989593b5b681f8b5e', 109), ('read-e7c1646f42a971c9f96afbc29294f0af', 5), ('read-9e8a220db3db5f2989593b5b681f8b5e', 118), ('read-e7c1646f42a971c9f96afbc29294f0af', 14), ('read-9e8a220db3db5f2989593b5b681f8b5e', 127), ('read-e7c1646f42a971c9f96afbc29294f0af', 23), ('read-e7c1646f42a971c9f96afbc29294f0af', 261), ('read-e7c1646f42a971c9f96afbc29294f0af', 32), ('read-e7c1646f42a971c9f96afbc29294f0af', 270), ('read-e7c1646f42a971c9f96afbc29294f0af', 279), ('read-e7c1646f42a971c9f96afbc29294f0af', 288), ('read-e7c1646f42a971c9f96afbc29294f0af', 297), ('read-e7c1646f42a971c9f96afbc29294f0af', 126), ('read-e7c1646f42a971c9f96afbc29294f0af', 135), ('read-e7c1646f42a971c9f96afbc29294f0af', 144), ('read-e7c1646f42a971c9f96afbc29294f0af', 153), ('read-e7c1646f42a971c9f96afbc29294f0af', 162), ('read-9e8a220db3db5f2989593b5b681f8b5e', 95), ('read-9e8a220db3db5f2989593b5b681f8b5e', 104), ('read-e7c1646f42a971c9f96afbc29294f0af', 0), ('read-9e8a220db3db5f2989593b5b681f8b5e', 113), ('read-e7c1646f42a971c9f96afbc29294f0af', 247), ('read-9e8a220db3db5f2989593b5b681f8b5e', 122), ('read-e7c1646f42a971c9f96afbc29294f0af', 18), ('read-e7c1646f42a971c9f96afbc29294f0af', 256), ('read-e7c1646f42a971c9f96afbc29294f0af', 27), ('read-e7c1646f42a971c9f96afbc29294f0af', 265), ('read-e7c1646f42a971c9f96afbc29294f0af', 274), ('read-e7c1646f42a971c9f96afbc29294f0af', 283), ('read-e7c1646f42a971c9f96afbc29294f0af', 112), ('read-e7c1646f42a971c9f96afbc29294f0af', 121), ('read-e7c1646f42a971c9f96afbc29294f0af', 130), ('read-e7c1646f42a971c9f96afbc29294f0af', 139), ('read-e7c1646f42a971c9f96afbc29294f0af', 148), ('read-9e8a220db3db5f2989593b5b681f8b5e', 81), ('read-9e8a220db3db5f2989593b5b681f8b5e', 99), ('read-9e8a220db3db5f2989593b5b681f8b5e', 108), ('read-e7c1646f42a971c9f96afbc29294f0af', 4), ('read-e7c1646f42a971c9f96afbc29294f0af', 242), ('read-e7c1646f42a971c9f96afbc29294f0af', 13), ('read-e7c1646f42a971c9f96afbc29294f0af', 251), ('read-e7c1646f42a971c9f96afbc29294f0af', 260), ('read-e7c1646f42a971c9f96afbc29294f0af', 269), ('read-e7c1646f42a971c9f96afbc29294f0af', 278), ('read-e7c1646f42a971c9f96afbc29294f0af', 107), ('read-e7c1646f42a971c9f96afbc29294f0af', 116), ('read-e7c1646f42a971c9f96afbc29294f0af', 125), ('read-e7c1646f42a971c9f96afbc29294f0af', 134), ('read-e7c1646f42a971c9f96afbc29294f0af', 143), ('read-9e8a220db3db5f2989593b5b681f8b5e', 85), ('read-9e8a220db3db5f2989593b5b681f8b5e', 94), ('read-e7c1646f42a971c9f96afbc29294f0af', 228), ('read-9e8a220db3db5f2989593b5b681f8b5e', 103), ('read-e7c1646f42a971c9f96afbc29294f0af', 237), ('read-e7c1646f42a971c9f96afbc29294f0af', 8), ('read-e7c1646f42a971c9f96afbc29294f0af', 246), ('read-e7c1646f42a971c9f96afbc29294f0af', 255), ('read-e7c1646f42a971c9f96afbc29294f0af', 264), ('read-e7c1646f42a971c9f96afbc29294f0af', 102), ('read-e7c1646f42a971c9f96afbc29294f0af', 111), ('read-e7c1646f42a971c9f96afbc29294f0af', 120), ('read-e7c1646f42a971c9f96afbc29294f0af', 129), ('read-9e8a220db3db5f2989593b5b681f8b5e', 62), ('read-e7c1646f42a971c9f96afbc29294f0af', 223), ('read-e7c1646f42a971c9f96afbc29294f0af', 232), ('read-e7c1646f42a971c9f96afbc29294f0af', 241), ('read-e7c1646f42a971c9f96afbc29294f0af', 250), ('read-e7c1646f42a971c9f96afbc29294f0af', 259), ('read-e7c1646f42a971c9f96afbc29294f0af', 97), ('read-e7c1646f42a971c9f96afbc29294f0af', 106), ('read-e7c1646f42a971c9f96afbc29294f0af', 115), ('read-9e8a220db3db5f2989593b5b681f8b5e', 39), ('read-e7c1646f42a971c9f96afbc29294f0af', 124), ('read-9e8a220db3db5f2989593b5b681f8b5e', 48), ('read-9e8a220db3db5f2989593b5b681f8b5e', 66), ('read-e7c1646f42a971c9f96afbc29294f0af', 209), ('read-e7c1646f42a971c9f96afbc29294f0af', 218), ('read-e7c1646f42a971c9f96afbc29294f0af', 227), ('read-e7c1646f42a971c9f96afbc29294f0af', 236), ('read-e7c1646f42a971c9f96afbc29294f0af', 245), ('read-e7c1646f42a971c9f96afbc29294f0af', 83), ('read-e7c1646f42a971c9f96afbc29294f0af', 92), ('read-e7c1646f42a971c9f96afbc29294f0af', 101), ('read-e7c1646f42a971c9f96afbc29294f0af', 110), ('read-9e8a220db3db5f2989593b5b681f8b5e', 34), ('read-9e8a220db3db5f2989593b5b681f8b5e', 43), ('read-e7c1646f42a971c9f96afbc29294f0af', 195), ('read-e7c1646f42a971c9f96afbc29294f0af', 204), ('read-e7c1646f42a971c9f96afbc29294f0af', 213), ('read-e7c1646f42a971c9f96afbc29294f0af', 222), ('read-e7c1646f42a971c9f96afbc29294f0af', 231), ('read-e7c1646f42a971c9f96afbc29294f0af', 69), ('read-e7c1646f42a971c9f96afbc29294f0af', 78), ('read-9e8a220db3db5f2989593b5b681f8b5e', 20), ('read-9e8a220db3db5f2989593b5b681f8b5e', 29), ('read-9e8a220db3db5f2989593b5b681f8b5e', 38), ('read-9e8a220db3db5f2989593b5b681f8b5e', 47), ('read-e7c1646f42a971c9f96afbc29294f0af', 190), ('read-e7c1646f42a971c9f96afbc29294f0af', 199), ('read-e7c1646f42a971c9f96afbc29294f0af', 208), ('read-e7c1646f42a971c9f96afbc29294f0af', 217), ('read-e7c1646f42a971c9f96afbc29294f0af', 226), ('read-9e8a220db3db5f2989593b5b681f8b5e', 150), ('read-e7c1646f42a971c9f96afbc29294f0af', 73), ('read-e7c1646f42a971c9f96afbc29294f0af', 311), ('read-9e8a220db3db5f2989593b5b681f8b5e', 15), ('read-9e8a220db3db5f2989593b5b681f8b5e', 24), ('read-9e8a220db3db5f2989593b5b681f8b5e', 33), ('read-9e8a220db3db5f2989593b5b681f8b5e', 42), ('read-e7c1646f42a971c9f96afbc29294f0af', 176), ('read-9e8a220db3db5f2989593b5b681f8b5e', 51), ('read-e7c1646f42a971c9f96afbc29294f0af', 185), ('read-e7c1646f42a971c9f96afbc29294f0af', 194), ('read-e7c1646f42a971c9f96afbc29294f0af', 203), ('read-e7c1646f42a971c9f96afbc29294f0af', 212), ('read-9e8a220db3db5f2989593b5b681f8b5e', 136), ('read-9e8a220db3db5f2989593b5b681f8b5e', 145), ('read-e7c1646f42a971c9f96afbc29294f0af', 41))\n"
     ]
    },
    {
     "ename": "KeyboardInterrupt",
     "evalue": "",
     "output_type": "error",
     "traceback": [
      "\u001b[0;31m---------------------------------------------------------------------------\u001b[0m",
      "\u001b[0;31mKeyboardInterrupt\u001b[0m                         Traceback (most recent call last)",
      "Cell \u001b[0;32mIn[3], line 10\u001b[0m\n\u001b[1;32m      7\u001b[0m products \u001b[38;5;241m=\u001b[39m dd\u001b[38;5;241m.\u001b[39mread_csv(\u001b[38;5;124m'\u001b[39m\u001b[38;5;124mproducts.csv\u001b[39m\u001b[38;5;124m'\u001b[39m, dtype\u001b[38;5;241m=\u001b[39m{\u001b[38;5;124m'\u001b[39m\u001b[38;5;124masin\u001b[39m\u001b[38;5;124m'\u001b[39m: \u001b[38;5;124m'\u001b[39m\u001b[38;5;124mobject\u001b[39m\u001b[38;5;124m'\u001b[39m})\n\u001b[1;32m      9\u001b[0m \u001b[38;5;66;03m# Persist both to avoid recomputation\u001b[39;00m\n\u001b[0;32m---> 10\u001b[0m reviews, products \u001b[38;5;241m=\u001b[39m \u001b[43mcompute\u001b[49m\u001b[43m(\u001b[49m\u001b[43mreviews\u001b[49m\u001b[38;5;241;43m.\u001b[39;49m\u001b[43mpersist\u001b[49m\u001b[43m(\u001b[49m\u001b[43m)\u001b[49m\u001b[43m,\u001b[49m\u001b[43m \u001b[49m\u001b[43mproducts\u001b[49m\u001b[38;5;241;43m.\u001b[39;49m\u001b[43mpersist\u001b[49m\u001b[43m(\u001b[49m\u001b[43m)\u001b[49m\u001b[43m)\u001b[49m\n\u001b[1;32m     12\u001b[0m \u001b[38;5;66;03m# ──────────────────────────────\u001b[39;00m\n\u001b[1;32m     13\u001b[0m \u001b[38;5;66;03m# Q1, Q2: Percentage of missing values\u001b[39;00m\n\u001b[1;32m     14\u001b[0m \u001b[38;5;66;03m# ──────────────────────────────\u001b[39;00m\n\u001b[1;32m     15\u001b[0m q1 \u001b[38;5;241m=\u001b[39m reviews\u001b[38;5;241m.\u001b[39misna()\u001b[38;5;241m.\u001b[39msum() \u001b[38;5;241m/\u001b[39m \u001b[38;5;28mlen\u001b[39m(reviews) \u001b[38;5;241m*\u001b[39m \u001b[38;5;241m100\u001b[39m\n",
      "File \u001b[0;32m~/dask_env/lib/python3.10/site-packages/dask/base.py:656\u001b[0m, in \u001b[0;36mcompute\u001b[0;34m(traverse, optimize_graph, scheduler, get, *args, **kwargs)\u001b[0m\n\u001b[1;32m    653\u001b[0m     postcomputes\u001b[38;5;241m.\u001b[39mappend(x\u001b[38;5;241m.\u001b[39m__dask_postcompute__())\n\u001b[1;32m    655\u001b[0m \u001b[38;5;28;01mwith\u001b[39;00m shorten_traceback():\n\u001b[0;32m--> 656\u001b[0m     results \u001b[38;5;241m=\u001b[39m \u001b[43mschedule\u001b[49m\u001b[43m(\u001b[49m\u001b[43mdsk\u001b[49m\u001b[43m,\u001b[49m\u001b[43m \u001b[49m\u001b[43mkeys\u001b[49m\u001b[43m,\u001b[49m\u001b[43m \u001b[49m\u001b[38;5;241;43m*\u001b[39;49m\u001b[38;5;241;43m*\u001b[39;49m\u001b[43mkwargs\u001b[49m\u001b[43m)\u001b[49m\n\u001b[1;32m    658\u001b[0m \u001b[38;5;28;01mreturn\u001b[39;00m repack([f(r, \u001b[38;5;241m*\u001b[39ma) \u001b[38;5;28;01mfor\u001b[39;00m r, (f, a) \u001b[38;5;129;01min\u001b[39;00m \u001b[38;5;28mzip\u001b[39m(results, postcomputes)])\n",
      "File \u001b[0;32m/usr/lib/python3.10/threading.py:607\u001b[0m, in \u001b[0;36mEvent.wait\u001b[0;34m(self, timeout)\u001b[0m\n\u001b[1;32m    605\u001b[0m signaled \u001b[38;5;241m=\u001b[39m \u001b[38;5;28mself\u001b[39m\u001b[38;5;241m.\u001b[39m_flag\n\u001b[1;32m    606\u001b[0m \u001b[38;5;28;01mif\u001b[39;00m \u001b[38;5;129;01mnot\u001b[39;00m signaled:\n\u001b[0;32m--> 607\u001b[0m     signaled \u001b[38;5;241m=\u001b[39m \u001b[38;5;28;43mself\u001b[39;49m\u001b[38;5;241;43m.\u001b[39;49m\u001b[43m_cond\u001b[49m\u001b[38;5;241;43m.\u001b[39;49m\u001b[43mwait\u001b[49m\u001b[43m(\u001b[49m\u001b[43mtimeout\u001b[49m\u001b[43m)\u001b[49m\n\u001b[1;32m    608\u001b[0m \u001b[38;5;28;01mreturn\u001b[39;00m signaled\n",
      "File \u001b[0;32m/usr/lib/python3.10/threading.py:324\u001b[0m, in \u001b[0;36mCondition.wait\u001b[0;34m(self, timeout)\u001b[0m\n\u001b[1;32m    322\u001b[0m \u001b[38;5;28;01melse\u001b[39;00m:\n\u001b[1;32m    323\u001b[0m     \u001b[38;5;28;01mif\u001b[39;00m timeout \u001b[38;5;241m>\u001b[39m \u001b[38;5;241m0\u001b[39m:\n\u001b[0;32m--> 324\u001b[0m         gotit \u001b[38;5;241m=\u001b[39m \u001b[43mwaiter\u001b[49m\u001b[38;5;241;43m.\u001b[39;49m\u001b[43macquire\u001b[49m\u001b[43m(\u001b[49m\u001b[38;5;28;43;01mTrue\u001b[39;49;00m\u001b[43m,\u001b[49m\u001b[43m \u001b[49m\u001b[43mtimeout\u001b[49m\u001b[43m)\u001b[49m\n\u001b[1;32m    325\u001b[0m     \u001b[38;5;28;01melse\u001b[39;00m:\n\u001b[1;32m    326\u001b[0m         gotit \u001b[38;5;241m=\u001b[39m waiter\u001b[38;5;241m.\u001b[39macquire(\u001b[38;5;28;01mFalse\u001b[39;00m)\n",
      "\u001b[0;31mKeyboardInterrupt\u001b[0m: "
     ]
    }
   ],
   "source": [
    "import dask.dataframe as dd\n",
    "import ast\n",
    "from dask import compute\n",
    "\n",
    "# Load data\n",
    "reviews = dd.read_csv('user_reviews.csv', dtype={'asin': 'object'})\n",
    "products = dd.read_csv('products.csv', dtype={'asin': 'object'})\n",
    "\n",
    "reviews = reviews.persist()\n",
    "products = products.persist()\n",
    "# ──────────────────────────────\n",
    "# Q1, Q2: Percentage of missing values\n",
    "# ──────────────────────────────\n",
    "q1 = reviews.isna().sum() / len(reviews) * 100\n",
    "q2 = products.isna().sum() / len(products) * 100\n",
    "ans1, ans2 = compute(q1, q2)\n",
    "\n",
    "# ──────────────────────────────\n",
    "# Q3: Pearson correlation between price and overall rating\n",
    "# ──────────────────────────────\n",
    "merged = dd.merge(\n",
    "    reviews[['asin', 'overall']],\n",
    "    products[['asin', 'price']],\n",
    "    on='asin',\n",
    "    how='inner'\n",
    ").dropna(subset=['overall', 'price'])\n",
    "\n",
    "ans3 = merged[['overall', 'price']].corr().compute().loc['overall', 'price']\n",
    "\n",
    "# ──────────────────────────────\n",
    "# Q4: Summary stats for price\n",
    "# ──────────────────────────────\n",
    "price = products['price'].dropna()\n",
    "price_stats, median_price = compute(\n",
    "    price.agg(['mean', 'std', 'min', 'max']),\n",
    "    price.quantile(0.5)\n",
    ")\n",
    "ans4 = {\n",
    "    'mean': price_stats['mean'],\n",
    "    'std': price_stats['std'],\n",
    "    'min': price_stats['min'],\n",
    "    'max': price_stats['max'],\n",
    "    'median': median_price\n",
    "}\n",
    "\n",
    "# ──────────────────────────────\n",
    "# Q5: Count of products by super-category\n",
    "# ──────────────────────────────\n",
    "def get_supercat(cat_str):\n",
    "    try:\n",
    "        cat_list = ast.literal_eval(cat_str)\n",
    "        if isinstance(cat_list, list) and cat_list and isinstance(cat_list[0], list) and cat_list[0]:\n",
    "            return cat_list[0][0]\n",
    "    except:\n",
    "        return None\n",
    "    return None\n",
    "\n",
    "valid_cats = products['categories'].dropna().map(get_supercat, meta=('supercat', 'object'))\n",
    "ans5 = valid_cats.value_counts().compute().to_dict()\n",
    "\n",
    "# ──────────────────────────────\n",
    "# Q6: Dangling references from reviews → products\n",
    "# ──────────────────────────────\n",
    "rev_asins, prod_asins = compute(\n",
    "    reviews['asin'].dropna().unique(),\n",
    "    products['asin'].dropna().unique()\n",
    ")\n",
    "ans6 = int(len(set(rev_asins) - set(prod_asins)) > 0)\n",
    "\n",
    "# ──────────────────────────────\n",
    "# Q7: Dangling references from related → products\n",
    "# ──────────────────────────────\n",
    "def extract_related_ids(related_str):\n",
    "    try:\n",
    "        d = ast.literal_eval(related_str)\n",
    "        ids = []\n",
    "        for k in ['also_bought', 'also_viewed', 'bought_together', 'buy_after_viewing']:\n",
    "            if k in d and isinstance(d[k], list):\n",
    "                ids.extend(d[k])\n",
    "        return ids\n",
    "    except:\n",
    "        return []\n",
    "\n",
    "related_ids = products['related'].dropna().map(\n",
    "    extract_related_ids, meta=('related_ids', 'object')\n",
    ").explode().dropna()\n",
    "\n",
    "related_ids_set = set(related_ids.compute())\n",
    "ans7 = int(len(related_ids_set - set(prod_asins)) > 0)"
   ]
  },
  {
   "cell_type": "code",
   "execution_count": 94,
   "id": "7390ec84-5333-4f41-ab95-bb984e836ccc",
   "metadata": {},
   "outputs": [
    {
     "ename": "AttributeError",
     "evalue": "module 'dask.dataframe' has no attribute 'visualize'",
     "output_type": "error",
     "traceback": [
      "\u001b[0;31m---------------------------------------------------------------------------\u001b[0m",
      "\u001b[0;31mAttributeError\u001b[0m                            Traceback (most recent call last)",
      "Cell \u001b[0;32mIn[94], line 70\u001b[0m\n\u001b[1;32m     61\u001b[0m unified \u001b[38;5;241m=\u001b[39m (\n\u001b[1;32m     62\u001b[0m     q1, q2, q3,\n\u001b[1;32m     63\u001b[0m     q4_mean, q4_std, q4_min, q4_max, q4_median,\n\u001b[0;32m   (...)\u001b[0m\n\u001b[1;32m     66\u001b[0m     related_ids\n\u001b[1;32m     67\u001b[0m )\n\u001b[1;32m     69\u001b[0m \u001b[38;5;66;03m# Visualize the full DAG\u001b[39;00m\n\u001b[0;32m---> 70\u001b[0m \u001b[43mdd\u001b[49m\u001b[38;5;241;43m.\u001b[39;49m\u001b[43mvisualize\u001b[49m(unified, filename\u001b[38;5;241m=\u001b[39m\u001b[38;5;124m'\u001b[39m\u001b[38;5;124mfull_pa1_dag\u001b[39m\u001b[38;5;124m'\u001b[39m, \u001b[38;5;28mformat\u001b[39m\u001b[38;5;241m=\u001b[39m\u001b[38;5;124m'\u001b[39m\u001b[38;5;124mpng\u001b[39m\u001b[38;5;124m'\u001b[39m, rankdir\u001b[38;5;241m=\u001b[39m\u001b[38;5;124m'\u001b[39m\u001b[38;5;124mTB\u001b[39m\u001b[38;5;124m'\u001b[39m)\n",
      "\u001b[0;31mAttributeError\u001b[0m: module 'dask.dataframe' has no attribute 'visualize'"
     ]
    }
   ],
   "source": [
    "import dask.dataframe as dd\n",
    "import ast\n",
    "\n",
    "# Read data\n",
    "reviews = dd.read_csv('user_reviews.csv', dtype={'asin': 'object'})\n",
    "products = dd.read_csv('products.csv', dtype={'asin': 'object'})\n",
    "\n",
    "# Q1, Q2\n",
    "q1 = reviews.isna().sum() / len(reviews) * 100\n",
    "q2 = products.isna().sum() / len(products) * 100\n",
    "\n",
    "# Q3\n",
    "merged = dd.merge(\n",
    "    reviews[['asin', 'overall']],\n",
    "    products[['asin', 'price']],\n",
    "    on='asin',\n",
    "    how='inner'\n",
    ").dropna(subset=['overall', 'price'])\n",
    "q3 = merged[['overall', 'price']].corr()\n",
    "\n",
    "# Q4\n",
    "price = products['price'].dropna()\n",
    "q4_mean = price.mean()\n",
    "q4_std = price.std()\n",
    "q4_min = price.min()\n",
    "q4_max = price.max()\n",
    "q4_median = price.quantile(0.5)\n",
    "\n",
    "# Q5\n",
    "def get_supercat(cat_str):\n",
    "    try:\n",
    "        cat_list = ast.literal_eval(cat_str)\n",
    "        if isinstance(cat_list, list) and cat_list and isinstance(cat_list[0], list) and cat_list[0]:\n",
    "            return cat_list[0][0]\n",
    "    except:\n",
    "        return None\n",
    "    return None\n",
    "\n",
    "valid_cats = products['categories'].dropna().map(get_supercat, meta=('supercat', 'object'))\n",
    "q5 = valid_cats.value_counts()\n",
    "\n",
    "# Q6\n",
    "rev_asins = reviews['asin'].dropna().unique()\n",
    "prod_asins = products['asin'].dropna().unique()\n",
    "\n",
    "# Q7\n",
    "def extract_related_ids(related_str):\n",
    "    try:\n",
    "        d = ast.literal_eval(related_str)\n",
    "        ids = []\n",
    "        for k in ['also_bought', 'also_viewed', 'bought_together', 'buy_after_viewing']:\n",
    "            if k in d and isinstance(d[k], list):\n",
    "                ids.extend(d[k])\n",
    "        return ids\n",
    "    except:\n",
    "        return []\n",
    "\n",
    "related_ids = products['related'].dropna().map(extract_related_ids, meta=('related_ids', 'object')).explode().dropna()\n",
    "\n",
    "# Combine all expressions\n",
    "unified = (\n",
    "    q1, q2, q3,\n",
    "    q4_mean, q4_std, q4_min, q4_max, q4_median,\n",
    "    q5,\n",
    "    rev_asins, prod_asins,\n",
    "    related_ids\n",
    ")\n",
    "\n",
    "# Visualize the full DAG\n",
    "dask.visualize(unified, filename='full_pa1_dag', format='png', rankdir='TB')"
   ]
  },
  {
   "cell_type": "code",
   "execution_count": null,
   "id": "d7fc9036-e446-4ccb-b6e4-93b2292e5361",
   "metadata": {},
   "outputs": [],
   "source": []
  },
  {
   "cell_type": "code",
   "execution_count": null,
   "id": "07b2cb3c-64ae-4030-8105-e064f93a32c3",
   "metadata": {},
   "outputs": [],
   "source": [
    "which dot"
   ]
  },
  {
   "cell_type": "code",
   "execution_count": 97,
   "id": "0b4b5652-6ec1-441a-8079-d5887507d56e",
   "metadata": {},
   "outputs": [
    {
     "ename": "ExecutableNotFound",
     "evalue": "failed to execute PosixPath('dot'), make sure the Graphviz executables are on your systems' PATH",
     "output_type": "error",
     "traceback": [
      "\u001b[0;31m---------------------------------------------------------------------------\u001b[0m",
      "\u001b[0;31mFileNotFoundError\u001b[0m                         Traceback (most recent call last)",
      "File \u001b[0;32m~/dask_env/lib/python3.10/site-packages/graphviz/backend/execute.py:76\u001b[0m, in \u001b[0;36mrun_check\u001b[0;34m(cmd, input_lines, encoding, quiet, **kwargs)\u001b[0m\n\u001b[1;32m     75\u001b[0m         kwargs[\u001b[38;5;124m'\u001b[39m\u001b[38;5;124mstdout\u001b[39m\u001b[38;5;124m'\u001b[39m] \u001b[38;5;241m=\u001b[39m kwargs[\u001b[38;5;124m'\u001b[39m\u001b[38;5;124mstderr\u001b[39m\u001b[38;5;124m'\u001b[39m] \u001b[38;5;241m=\u001b[39m subprocess\u001b[38;5;241m.\u001b[39mPIPE\n\u001b[0;32m---> 76\u001b[0m     proc \u001b[38;5;241m=\u001b[39m \u001b[43m_run_input_lines\u001b[49m\u001b[43m(\u001b[49m\u001b[43mcmd\u001b[49m\u001b[43m,\u001b[49m\u001b[43m \u001b[49m\u001b[43minput_lines\u001b[49m\u001b[43m,\u001b[49m\u001b[43m \u001b[49m\u001b[43mkwargs\u001b[49m\u001b[38;5;241;43m=\u001b[39;49m\u001b[43mkwargs\u001b[49m\u001b[43m)\u001b[49m\n\u001b[1;32m     77\u001b[0m \u001b[38;5;28;01melse\u001b[39;00m:\n",
      "File \u001b[0;32m~/dask_env/lib/python3.10/site-packages/graphviz/backend/execute.py:96\u001b[0m, in \u001b[0;36m_run_input_lines\u001b[0;34m(cmd, input_lines, kwargs)\u001b[0m\n\u001b[1;32m     95\u001b[0m \u001b[38;5;28;01mdef\u001b[39;00m\u001b[38;5;250m \u001b[39m\u001b[38;5;21m_run_input_lines\u001b[39m(cmd, input_lines, \u001b[38;5;241m*\u001b[39m, kwargs):\n\u001b[0;32m---> 96\u001b[0m     popen \u001b[38;5;241m=\u001b[39m \u001b[43msubprocess\u001b[49m\u001b[38;5;241;43m.\u001b[39;49m\u001b[43mPopen\u001b[49m\u001b[43m(\u001b[49m\u001b[43mcmd\u001b[49m\u001b[43m,\u001b[49m\u001b[43m \u001b[49m\u001b[43mstdin\u001b[49m\u001b[38;5;241;43m=\u001b[39;49m\u001b[43msubprocess\u001b[49m\u001b[38;5;241;43m.\u001b[39;49m\u001b[43mPIPE\u001b[49m\u001b[43m,\u001b[49m\u001b[43m \u001b[49m\u001b[38;5;241;43m*\u001b[39;49m\u001b[38;5;241;43m*\u001b[39;49m\u001b[43mkwargs\u001b[49m\u001b[43m)\u001b[49m\n\u001b[1;32m     98\u001b[0m     stdin_write \u001b[38;5;241m=\u001b[39m popen\u001b[38;5;241m.\u001b[39mstdin\u001b[38;5;241m.\u001b[39mwrite\n",
      "File \u001b[0;32m/usr/lib/python3.10/subprocess.py:971\u001b[0m, in \u001b[0;36mPopen.__init__\u001b[0;34m(self, args, bufsize, executable, stdin, stdout, stderr, preexec_fn, close_fds, shell, cwd, env, universal_newlines, startupinfo, creationflags, restore_signals, start_new_session, pass_fds, user, group, extra_groups, encoding, errors, text, umask, pipesize)\u001b[0m\n\u001b[1;32m    968\u001b[0m             \u001b[38;5;28mself\u001b[39m\u001b[38;5;241m.\u001b[39mstderr \u001b[38;5;241m=\u001b[39m io\u001b[38;5;241m.\u001b[39mTextIOWrapper(\u001b[38;5;28mself\u001b[39m\u001b[38;5;241m.\u001b[39mstderr,\n\u001b[1;32m    969\u001b[0m                     encoding\u001b[38;5;241m=\u001b[39mencoding, errors\u001b[38;5;241m=\u001b[39merrors)\n\u001b[0;32m--> 971\u001b[0m     \u001b[38;5;28;43mself\u001b[39;49m\u001b[38;5;241;43m.\u001b[39;49m\u001b[43m_execute_child\u001b[49m\u001b[43m(\u001b[49m\u001b[43margs\u001b[49m\u001b[43m,\u001b[49m\u001b[43m \u001b[49m\u001b[43mexecutable\u001b[49m\u001b[43m,\u001b[49m\u001b[43m \u001b[49m\u001b[43mpreexec_fn\u001b[49m\u001b[43m,\u001b[49m\u001b[43m \u001b[49m\u001b[43mclose_fds\u001b[49m\u001b[43m,\u001b[49m\n\u001b[1;32m    972\u001b[0m \u001b[43m                        \u001b[49m\u001b[43mpass_fds\u001b[49m\u001b[43m,\u001b[49m\u001b[43m \u001b[49m\u001b[43mcwd\u001b[49m\u001b[43m,\u001b[49m\u001b[43m \u001b[49m\u001b[43menv\u001b[49m\u001b[43m,\u001b[49m\n\u001b[1;32m    973\u001b[0m \u001b[43m                        \u001b[49m\u001b[43mstartupinfo\u001b[49m\u001b[43m,\u001b[49m\u001b[43m \u001b[49m\u001b[43mcreationflags\u001b[49m\u001b[43m,\u001b[49m\u001b[43m \u001b[49m\u001b[43mshell\u001b[49m\u001b[43m,\u001b[49m\n\u001b[1;32m    974\u001b[0m \u001b[43m                        \u001b[49m\u001b[43mp2cread\u001b[49m\u001b[43m,\u001b[49m\u001b[43m \u001b[49m\u001b[43mp2cwrite\u001b[49m\u001b[43m,\u001b[49m\n\u001b[1;32m    975\u001b[0m \u001b[43m                        \u001b[49m\u001b[43mc2pread\u001b[49m\u001b[43m,\u001b[49m\u001b[43m \u001b[49m\u001b[43mc2pwrite\u001b[49m\u001b[43m,\u001b[49m\n\u001b[1;32m    976\u001b[0m \u001b[43m                        \u001b[49m\u001b[43merrread\u001b[49m\u001b[43m,\u001b[49m\u001b[43m \u001b[49m\u001b[43merrwrite\u001b[49m\u001b[43m,\u001b[49m\n\u001b[1;32m    977\u001b[0m \u001b[43m                        \u001b[49m\u001b[43mrestore_signals\u001b[49m\u001b[43m,\u001b[49m\n\u001b[1;32m    978\u001b[0m \u001b[43m                        \u001b[49m\u001b[43mgid\u001b[49m\u001b[43m,\u001b[49m\u001b[43m \u001b[49m\u001b[43mgids\u001b[49m\u001b[43m,\u001b[49m\u001b[43m \u001b[49m\u001b[43muid\u001b[49m\u001b[43m,\u001b[49m\u001b[43m \u001b[49m\u001b[43mumask\u001b[49m\u001b[43m,\u001b[49m\n\u001b[1;32m    979\u001b[0m \u001b[43m                        \u001b[49m\u001b[43mstart_new_session\u001b[49m\u001b[43m)\u001b[49m\n\u001b[1;32m    980\u001b[0m \u001b[38;5;28;01mexcept\u001b[39;00m:\n\u001b[1;32m    981\u001b[0m     \u001b[38;5;66;03m# Cleanup if the child failed starting.\u001b[39;00m\n",
      "File \u001b[0;32m/usr/lib/python3.10/subprocess.py:1863\u001b[0m, in \u001b[0;36mPopen._execute_child\u001b[0;34m(self, args, executable, preexec_fn, close_fds, pass_fds, cwd, env, startupinfo, creationflags, shell, p2cread, p2cwrite, c2pread, c2pwrite, errread, errwrite, restore_signals, gid, gids, uid, umask, start_new_session)\u001b[0m\n\u001b[1;32m   1862\u001b[0m         err_msg \u001b[38;5;241m=\u001b[39m os\u001b[38;5;241m.\u001b[39mstrerror(errno_num)\n\u001b[0;32m-> 1863\u001b[0m     \u001b[38;5;28;01mraise\u001b[39;00m child_exception_type(errno_num, err_msg, err_filename)\n\u001b[1;32m   1864\u001b[0m \u001b[38;5;28;01mraise\u001b[39;00m child_exception_type(err_msg)\n",
      "\u001b[0;31mFileNotFoundError\u001b[0m: [Errno 2] No such file or directory: PosixPath('dot')",
      "\nThe above exception was the direct cause of the following exception:\n",
      "\u001b[0;31mExecutableNotFound\u001b[0m                        Traceback (most recent call last)",
      "Cell \u001b[0;32mIn[97], line 2\u001b[0m\n\u001b[1;32m      1\u001b[0m \u001b[38;5;66;03m# Visualize the full DAG\u001b[39;00m\n\u001b[0;32m----> 2\u001b[0m \u001b[43mdask\u001b[49m\u001b[38;5;241;43m.\u001b[39;49m\u001b[43mvisualize\u001b[49m\u001b[43m(\u001b[49m\u001b[43munified\u001b[49m\u001b[43m,\u001b[49m\u001b[43m \u001b[49m\u001b[43mfilename\u001b[49m\u001b[38;5;241;43m=\u001b[39;49m\u001b[38;5;124;43m'\u001b[39;49m\u001b[38;5;124;43mfull_pa1_dag\u001b[39;49m\u001b[38;5;124;43m'\u001b[39;49m\u001b[43m,\u001b[49m\u001b[43m \u001b[49m\u001b[38;5;28;43mformat\u001b[39;49m\u001b[38;5;241;43m=\u001b[39;49m\u001b[38;5;124;43m'\u001b[39;49m\u001b[38;5;124;43mpng\u001b[39;49m\u001b[38;5;124;43m'\u001b[39;49m\u001b[43m,\u001b[49m\u001b[43m \u001b[49m\u001b[43mrankdir\u001b[49m\u001b[38;5;241;43m=\u001b[39;49m\u001b[38;5;124;43m'\u001b[39;49m\u001b[38;5;124;43mTB\u001b[39;49m\u001b[38;5;124;43m'\u001b[39;49m\u001b[43m)\u001b[49m\n",
      "File \u001b[0;32m~/dask_env/lib/python3.10/site-packages/dask/base.py:753\u001b[0m, in \u001b[0;36mvisualize\u001b[0;34m(filename, traverse, optimize_graph, maxval, engine, *args, **kwargs)\u001b[0m\n\u001b[1;32m    749\u001b[0m args, _ \u001b[38;5;241m=\u001b[39m unpack_collections(\u001b[38;5;241m*\u001b[39margs, traverse\u001b[38;5;241m=\u001b[39mtraverse)\n\u001b[1;32m    751\u001b[0m dsk \u001b[38;5;241m=\u001b[39m \u001b[38;5;28mdict\u001b[39m(collections_to_dsk(args, optimize_graph\u001b[38;5;241m=\u001b[39moptimize_graph))\n\u001b[0;32m--> 753\u001b[0m \u001b[38;5;28;01mreturn\u001b[39;00m \u001b[43mvisualize_dsk\u001b[49m\u001b[43m(\u001b[49m\n\u001b[1;32m    754\u001b[0m \u001b[43m    \u001b[49m\u001b[43mdsk\u001b[49m\u001b[38;5;241;43m=\u001b[39;49m\u001b[43mdsk\u001b[49m\u001b[43m,\u001b[49m\n\u001b[1;32m    755\u001b[0m \u001b[43m    \u001b[49m\u001b[43mfilename\u001b[49m\u001b[38;5;241;43m=\u001b[39;49m\u001b[43mfilename\u001b[49m\u001b[43m,\u001b[49m\n\u001b[1;32m    756\u001b[0m \u001b[43m    \u001b[49m\u001b[43mtraverse\u001b[49m\u001b[38;5;241;43m=\u001b[39;49m\u001b[43mtraverse\u001b[49m\u001b[43m,\u001b[49m\n\u001b[1;32m    757\u001b[0m \u001b[43m    \u001b[49m\u001b[43moptimize_graph\u001b[49m\u001b[38;5;241;43m=\u001b[39;49m\u001b[43moptimize_graph\u001b[49m\u001b[43m,\u001b[49m\n\u001b[1;32m    758\u001b[0m \u001b[43m    \u001b[49m\u001b[43mmaxval\u001b[49m\u001b[38;5;241;43m=\u001b[39;49m\u001b[43mmaxval\u001b[49m\u001b[43m,\u001b[49m\n\u001b[1;32m    759\u001b[0m \u001b[43m    \u001b[49m\u001b[43mengine\u001b[49m\u001b[38;5;241;43m=\u001b[39;49m\u001b[43mengine\u001b[49m\u001b[43m,\u001b[49m\n\u001b[1;32m    760\u001b[0m \u001b[43m    \u001b[49m\u001b[38;5;241;43m*\u001b[39;49m\u001b[38;5;241;43m*\u001b[39;49m\u001b[43mkwargs\u001b[49m\u001b[43m,\u001b[49m\n\u001b[1;32m    761\u001b[0m \u001b[43m\u001b[49m\u001b[43m)\u001b[49m\n",
      "File \u001b[0;32m~/dask_env/lib/python3.10/site-packages/dask/base.py:890\u001b[0m, in \u001b[0;36mvisualize_dsk\u001b[0;34m(dsk, filename, traverse, optimize_graph, maxval, o, engine, limit, **kwargs)\u001b[0m\n\u001b[1;32m    887\u001b[0m \u001b[38;5;28;01mif\u001b[39;00m engine \u001b[38;5;241m==\u001b[39m \u001b[38;5;124m\"\u001b[39m\u001b[38;5;124mgraphviz\u001b[39m\u001b[38;5;124m\"\u001b[39m:\n\u001b[1;32m    888\u001b[0m     \u001b[38;5;28;01mfrom\u001b[39;00m\u001b[38;5;250m \u001b[39m\u001b[38;5;21;01mdask\u001b[39;00m\u001b[38;5;21;01m.\u001b[39;00m\u001b[38;5;21;01mdot\u001b[39;00m\u001b[38;5;250m \u001b[39m\u001b[38;5;28;01mimport\u001b[39;00m dot_graph\n\u001b[0;32m--> 890\u001b[0m     \u001b[38;5;28;01mreturn\u001b[39;00m \u001b[43mdot_graph\u001b[49m\u001b[43m(\u001b[49m\u001b[43mdsk\u001b[49m\u001b[43m,\u001b[49m\u001b[43m \u001b[49m\u001b[43mfilename\u001b[49m\u001b[38;5;241;43m=\u001b[39;49m\u001b[43mfilename\u001b[49m\u001b[43m,\u001b[49m\u001b[43m \u001b[49m\u001b[38;5;241;43m*\u001b[39;49m\u001b[38;5;241;43m*\u001b[39;49m\u001b[43mkwargs\u001b[49m\u001b[43m)\u001b[49m\n\u001b[1;32m    891\u001b[0m \u001b[38;5;28;01melif\u001b[39;00m engine \u001b[38;5;129;01min\u001b[39;00m (\u001b[38;5;124m\"\u001b[39m\u001b[38;5;124mcytoscape\u001b[39m\u001b[38;5;124m\"\u001b[39m, \u001b[38;5;124m\"\u001b[39m\u001b[38;5;124mipycytoscape\u001b[39m\u001b[38;5;124m\"\u001b[39m):\n\u001b[1;32m    892\u001b[0m     \u001b[38;5;28;01mfrom\u001b[39;00m\u001b[38;5;250m \u001b[39m\u001b[38;5;21;01mdask\u001b[39;00m\u001b[38;5;21;01m.\u001b[39;00m\u001b[38;5;21;01mdot\u001b[39;00m\u001b[38;5;250m \u001b[39m\u001b[38;5;28;01mimport\u001b[39;00m cytoscape_graph\n",
      "File \u001b[0;32m~/dask_env/lib/python3.10/site-packages/dask/dot.py:274\u001b[0m, in \u001b[0;36mdot_graph\u001b[0;34m(dsk, filename, format, **kwargs)\u001b[0m\n\u001b[1;32m    236\u001b[0m \u001b[38;5;250m\u001b[39m\u001b[38;5;124;03m\"\"\"\u001b[39;00m\n\u001b[1;32m    237\u001b[0m \u001b[38;5;124;03mRender a task graph using dot.\u001b[39;00m\n\u001b[1;32m    238\u001b[0m \n\u001b[0;32m   (...)\u001b[0m\n\u001b[1;32m    271\u001b[0m \u001b[38;5;124;03mdask.dot.to_graphviz\u001b[39;00m\n\u001b[1;32m    272\u001b[0m \u001b[38;5;124;03m\"\"\"\u001b[39;00m\n\u001b[1;32m    273\u001b[0m g \u001b[38;5;241m=\u001b[39m to_graphviz(dsk, \u001b[38;5;241m*\u001b[39m\u001b[38;5;241m*\u001b[39mkwargs)\n\u001b[0;32m--> 274\u001b[0m \u001b[38;5;28;01mreturn\u001b[39;00m \u001b[43mgraphviz_to_file\u001b[49m\u001b[43m(\u001b[49m\u001b[43mg\u001b[49m\u001b[43m,\u001b[49m\u001b[43m \u001b[49m\u001b[43mfilename\u001b[49m\u001b[43m,\u001b[49m\u001b[43m \u001b[49m\u001b[38;5;28;43mformat\u001b[39;49m\u001b[43m)\u001b[49m\n",
      "File \u001b[0;32m~/dask_env/lib/python3.10/site-packages/dask/dot.py:291\u001b[0m, in \u001b[0;36mgraphviz_to_file\u001b[0;34m(g, filename, format)\u001b[0m\n\u001b[1;32m    288\u001b[0m \u001b[38;5;28;01mif\u001b[39;00m \u001b[38;5;28mformat\u001b[39m \u001b[38;5;129;01mis\u001b[39;00m \u001b[38;5;28;01mNone\u001b[39;00m:\n\u001b[1;32m    289\u001b[0m     \u001b[38;5;28mformat\u001b[39m \u001b[38;5;241m=\u001b[39m \u001b[38;5;124m\"\u001b[39m\u001b[38;5;124mpng\u001b[39m\u001b[38;5;124m\"\u001b[39m\n\u001b[0;32m--> 291\u001b[0m data \u001b[38;5;241m=\u001b[39m \u001b[43mg\u001b[49m\u001b[38;5;241;43m.\u001b[39;49m\u001b[43mpipe\u001b[49m\u001b[43m(\u001b[49m\u001b[38;5;28;43mformat\u001b[39;49m\u001b[38;5;241;43m=\u001b[39;49m\u001b[38;5;28;43mformat\u001b[39;49m\u001b[43m)\u001b[49m\n\u001b[1;32m    292\u001b[0m \u001b[38;5;28;01mif\u001b[39;00m \u001b[38;5;129;01mnot\u001b[39;00m data:\n\u001b[1;32m    293\u001b[0m     \u001b[38;5;28;01mraise\u001b[39;00m \u001b[38;5;167;01mRuntimeError\u001b[39;00m(\n\u001b[1;32m    294\u001b[0m         \u001b[38;5;124m\"\u001b[39m\u001b[38;5;124mGraphviz failed to properly produce an image. \u001b[39m\u001b[38;5;124m\"\u001b[39m\n\u001b[1;32m    295\u001b[0m         \u001b[38;5;124m\"\u001b[39m\u001b[38;5;124mThis probably means your installation of graphviz \u001b[39m\u001b[38;5;124m\"\u001b[39m\n\u001b[0;32m   (...)\u001b[0m\n\u001b[1;32m    298\u001b[0m         \u001b[38;5;124m\"\u001b[39m\u001b[38;5;124missues/485 for more information.\u001b[39m\u001b[38;5;124m\"\u001b[39m\n\u001b[1;32m    299\u001b[0m     )\n",
      "File \u001b[0;32m~/dask_env/lib/python3.10/site-packages/graphviz/piping.py:104\u001b[0m, in \u001b[0;36mPipe.pipe\u001b[0;34m(self, format, renderer, formatter, neato_no_op, quiet, engine, encoding)\u001b[0m\n\u001b[1;32m     55\u001b[0m \u001b[38;5;28;01mdef\u001b[39;00m\u001b[38;5;250m \u001b[39m\u001b[38;5;21mpipe\u001b[39m(\u001b[38;5;28mself\u001b[39m,\n\u001b[1;32m     56\u001b[0m          \u001b[38;5;28mformat\u001b[39m: typing\u001b[38;5;241m.\u001b[39mOptional[\u001b[38;5;28mstr\u001b[39m] \u001b[38;5;241m=\u001b[39m \u001b[38;5;28;01mNone\u001b[39;00m,\n\u001b[1;32m     57\u001b[0m          renderer: typing\u001b[38;5;241m.\u001b[39mOptional[\u001b[38;5;28mstr\u001b[39m] \u001b[38;5;241m=\u001b[39m \u001b[38;5;28;01mNone\u001b[39;00m,\n\u001b[0;32m   (...)\u001b[0m\n\u001b[1;32m     61\u001b[0m          engine: typing\u001b[38;5;241m.\u001b[39mOptional[\u001b[38;5;28mstr\u001b[39m] \u001b[38;5;241m=\u001b[39m \u001b[38;5;28;01mNone\u001b[39;00m,\n\u001b[1;32m     62\u001b[0m          encoding: typing\u001b[38;5;241m.\u001b[39mOptional[\u001b[38;5;28mstr\u001b[39m] \u001b[38;5;241m=\u001b[39m \u001b[38;5;28;01mNone\u001b[39;00m) \u001b[38;5;241m-\u001b[39m\u001b[38;5;241m>\u001b[39m typing\u001b[38;5;241m.\u001b[39mUnion[\u001b[38;5;28mbytes\u001b[39m, \u001b[38;5;28mstr\u001b[39m]:\n\u001b[1;32m     63\u001b[0m \u001b[38;5;250m    \u001b[39m\u001b[38;5;124;03m\"\"\"Return the source piped through the Graphviz layout command.\u001b[39;00m\n\u001b[1;32m     64\u001b[0m \n\u001b[1;32m     65\u001b[0m \u001b[38;5;124;03m    Args:\u001b[39;00m\n\u001b[0;32m   (...)\u001b[0m\n\u001b[1;32m    102\u001b[0m \u001b[38;5;124;03m        '<?xml version='\u001b[39;00m\n\u001b[1;32m    103\u001b[0m \u001b[38;5;124;03m    \"\"\"\u001b[39;00m\n\u001b[0;32m--> 104\u001b[0m     \u001b[38;5;28;01mreturn\u001b[39;00m \u001b[38;5;28;43mself\u001b[39;49m\u001b[38;5;241;43m.\u001b[39;49m\u001b[43m_pipe_legacy\u001b[49m\u001b[43m(\u001b[49m\u001b[38;5;28;43mformat\u001b[39;49m\u001b[43m,\u001b[49m\n\u001b[1;32m    105\u001b[0m \u001b[43m                             \u001b[49m\u001b[43mrenderer\u001b[49m\u001b[38;5;241;43m=\u001b[39;49m\u001b[43mrenderer\u001b[49m\u001b[43m,\u001b[49m\n\u001b[1;32m    106\u001b[0m \u001b[43m                             \u001b[49m\u001b[43mformatter\u001b[49m\u001b[38;5;241;43m=\u001b[39;49m\u001b[43mformatter\u001b[49m\u001b[43m,\u001b[49m\n\u001b[1;32m    107\u001b[0m \u001b[43m                             \u001b[49m\u001b[43mneato_no_op\u001b[49m\u001b[38;5;241;43m=\u001b[39;49m\u001b[43mneato_no_op\u001b[49m\u001b[43m,\u001b[49m\n\u001b[1;32m    108\u001b[0m \u001b[43m                             \u001b[49m\u001b[43mquiet\u001b[49m\u001b[38;5;241;43m=\u001b[39;49m\u001b[43mquiet\u001b[49m\u001b[43m,\u001b[49m\n\u001b[1;32m    109\u001b[0m \u001b[43m                             \u001b[49m\u001b[43mengine\u001b[49m\u001b[38;5;241;43m=\u001b[39;49m\u001b[43mengine\u001b[49m\u001b[43m,\u001b[49m\n\u001b[1;32m    110\u001b[0m \u001b[43m                             \u001b[49m\u001b[43mencoding\u001b[49m\u001b[38;5;241;43m=\u001b[39;49m\u001b[43mencoding\u001b[49m\u001b[43m)\u001b[49m\n",
      "File \u001b[0;32m~/dask_env/lib/python3.10/site-packages/graphviz/_tools.py:171\u001b[0m, in \u001b[0;36mdeprecate_positional_args.<locals>.decorator.<locals>.wrapper\u001b[0;34m(*args, **kwargs)\u001b[0m\n\u001b[1;32m    162\u001b[0m     wanted \u001b[38;5;241m=\u001b[39m \u001b[38;5;124m'\u001b[39m\u001b[38;5;124m, \u001b[39m\u001b[38;5;124m'\u001b[39m\u001b[38;5;241m.\u001b[39mjoin(\u001b[38;5;124mf\u001b[39m\u001b[38;5;124m'\u001b[39m\u001b[38;5;132;01m{\u001b[39;00mname\u001b[38;5;132;01m}\u001b[39;00m\u001b[38;5;124m=\u001b[39m\u001b[38;5;132;01m{\u001b[39;00mvalue\u001b[38;5;132;01m!r}\u001b[39;00m\u001b[38;5;124m'\u001b[39m\n\u001b[1;32m    163\u001b[0m                        \u001b[38;5;28;01mfor\u001b[39;00m name, value \u001b[38;5;129;01min\u001b[39;00m deprecated\u001b[38;5;241m.\u001b[39mitems())\n\u001b[1;32m    164\u001b[0m     warnings\u001b[38;5;241m.\u001b[39mwarn(\u001b[38;5;124mf\u001b[39m\u001b[38;5;124m'\u001b[39m\u001b[38;5;124mThe signature of \u001b[39m\u001b[38;5;132;01m{\u001b[39;00mfunc\u001b[38;5;241m.\u001b[39m\u001b[38;5;18m__name__\u001b[39m\u001b[38;5;132;01m}\u001b[39;00m\u001b[38;5;124m will be reduced\u001b[39m\u001b[38;5;124m'\u001b[39m\n\u001b[1;32m    165\u001b[0m                   \u001b[38;5;124mf\u001b[39m\u001b[38;5;124m'\u001b[39m\u001b[38;5;124m to \u001b[39m\u001b[38;5;132;01m{\u001b[39;00msupported_number\u001b[38;5;132;01m}\u001b[39;00m\u001b[38;5;124m positional args\u001b[39m\u001b[38;5;124m'\u001b[39m\n\u001b[1;32m    166\u001b[0m                   \u001b[38;5;124mf\u001b[39m\u001b[38;5;124m'\u001b[39m\u001b[38;5;124m \u001b[39m\u001b[38;5;132;01m{\u001b[39;00m\u001b[38;5;28mlist\u001b[39m(supported)\u001b[38;5;132;01m}\u001b[39;00m\u001b[38;5;124m: pass \u001b[39m\u001b[38;5;132;01m{\u001b[39;00mwanted\u001b[38;5;132;01m}\u001b[39;00m\u001b[38;5;124m'\u001b[39m\n\u001b[1;32m    167\u001b[0m                   \u001b[38;5;124m'\u001b[39m\u001b[38;5;124m as keyword arg(s)\u001b[39m\u001b[38;5;124m'\u001b[39m,\n\u001b[1;32m    168\u001b[0m                   stacklevel\u001b[38;5;241m=\u001b[39mstacklevel,\n\u001b[1;32m    169\u001b[0m                   category\u001b[38;5;241m=\u001b[39mcategory)\n\u001b[0;32m--> 171\u001b[0m \u001b[38;5;28;01mreturn\u001b[39;00m \u001b[43mfunc\u001b[49m\u001b[43m(\u001b[49m\u001b[38;5;241;43m*\u001b[39;49m\u001b[43margs\u001b[49m\u001b[43m,\u001b[49m\u001b[43m \u001b[49m\u001b[38;5;241;43m*\u001b[39;49m\u001b[38;5;241;43m*\u001b[39;49m\u001b[43mkwargs\u001b[49m\u001b[43m)\u001b[49m\n",
      "File \u001b[0;32m~/dask_env/lib/python3.10/site-packages/graphviz/piping.py:121\u001b[0m, in \u001b[0;36mPipe._pipe_legacy\u001b[0;34m(self, format, renderer, formatter, neato_no_op, quiet, engine, encoding)\u001b[0m\n\u001b[1;32m    112\u001b[0m \u001b[38;5;129m@_tools\u001b[39m\u001b[38;5;241m.\u001b[39mdeprecate_positional_args(supported_number\u001b[38;5;241m=\u001b[39m\u001b[38;5;241m2\u001b[39m)\n\u001b[1;32m    113\u001b[0m \u001b[38;5;28;01mdef\u001b[39;00m\u001b[38;5;250m \u001b[39m\u001b[38;5;21m_pipe_legacy\u001b[39m(\u001b[38;5;28mself\u001b[39m,\n\u001b[1;32m    114\u001b[0m                  \u001b[38;5;28mformat\u001b[39m: typing\u001b[38;5;241m.\u001b[39mOptional[\u001b[38;5;28mstr\u001b[39m] \u001b[38;5;241m=\u001b[39m \u001b[38;5;28;01mNone\u001b[39;00m,\n\u001b[0;32m   (...)\u001b[0m\n\u001b[1;32m    119\u001b[0m                  engine: typing\u001b[38;5;241m.\u001b[39mOptional[\u001b[38;5;28mstr\u001b[39m] \u001b[38;5;241m=\u001b[39m \u001b[38;5;28;01mNone\u001b[39;00m,\n\u001b[1;32m    120\u001b[0m                  encoding: typing\u001b[38;5;241m.\u001b[39mOptional[\u001b[38;5;28mstr\u001b[39m] \u001b[38;5;241m=\u001b[39m \u001b[38;5;28;01mNone\u001b[39;00m) \u001b[38;5;241m-\u001b[39m\u001b[38;5;241m>\u001b[39m typing\u001b[38;5;241m.\u001b[39mUnion[\u001b[38;5;28mbytes\u001b[39m, \u001b[38;5;28mstr\u001b[39m]:\n\u001b[0;32m--> 121\u001b[0m     \u001b[38;5;28;01mreturn\u001b[39;00m \u001b[38;5;28;43mself\u001b[39;49m\u001b[38;5;241;43m.\u001b[39;49m\u001b[43m_pipe_future\u001b[49m\u001b[43m(\u001b[49m\u001b[38;5;28;43mformat\u001b[39;49m\u001b[43m,\u001b[49m\n\u001b[1;32m    122\u001b[0m \u001b[43m                             \u001b[49m\u001b[43mrenderer\u001b[49m\u001b[38;5;241;43m=\u001b[39;49m\u001b[43mrenderer\u001b[49m\u001b[43m,\u001b[49m\n\u001b[1;32m    123\u001b[0m \u001b[43m                             \u001b[49m\u001b[43mformatter\u001b[49m\u001b[38;5;241;43m=\u001b[39;49m\u001b[43mformatter\u001b[49m\u001b[43m,\u001b[49m\n\u001b[1;32m    124\u001b[0m \u001b[43m                             \u001b[49m\u001b[43mneato_no_op\u001b[49m\u001b[38;5;241;43m=\u001b[39;49m\u001b[43mneato_no_op\u001b[49m\u001b[43m,\u001b[49m\n\u001b[1;32m    125\u001b[0m \u001b[43m                             \u001b[49m\u001b[43mquiet\u001b[49m\u001b[38;5;241;43m=\u001b[39;49m\u001b[43mquiet\u001b[49m\u001b[43m,\u001b[49m\n\u001b[1;32m    126\u001b[0m \u001b[43m                             \u001b[49m\u001b[43mengine\u001b[49m\u001b[38;5;241;43m=\u001b[39;49m\u001b[43mengine\u001b[49m\u001b[43m,\u001b[49m\n\u001b[1;32m    127\u001b[0m \u001b[43m                             \u001b[49m\u001b[43mencoding\u001b[49m\u001b[38;5;241;43m=\u001b[39;49m\u001b[43mencoding\u001b[49m\u001b[43m)\u001b[49m\n",
      "File \u001b[0;32m~/dask_env/lib/python3.10/site-packages/graphviz/piping.py:161\u001b[0m, in \u001b[0;36mPipe._pipe_future\u001b[0;34m(self, format, renderer, formatter, neato_no_op, quiet, engine, encoding)\u001b[0m\n\u001b[1;32m    159\u001b[0m     \u001b[38;5;28;01melse\u001b[39;00m:\n\u001b[1;32m    160\u001b[0m         \u001b[38;5;28;01mreturn\u001b[39;00m raw\u001b[38;5;241m.\u001b[39mdecode(encoding)\n\u001b[0;32m--> 161\u001b[0m \u001b[38;5;28;01mreturn\u001b[39;00m \u001b[38;5;28;43mself\u001b[39;49m\u001b[38;5;241;43m.\u001b[39;49m\u001b[43m_pipe_lines\u001b[49m\u001b[43m(\u001b[49m\u001b[38;5;241;43m*\u001b[39;49m\u001b[43margs\u001b[49m\u001b[43m,\u001b[49m\u001b[43m \u001b[49m\u001b[43minput_encoding\u001b[49m\u001b[38;5;241;43m=\u001b[39;49m\u001b[38;5;28;43mself\u001b[39;49m\u001b[38;5;241;43m.\u001b[39;49m\u001b[43mencoding\u001b[49m\u001b[43m,\u001b[49m\u001b[43m \u001b[49m\u001b[38;5;241;43m*\u001b[39;49m\u001b[38;5;241;43m*\u001b[39;49m\u001b[43mkwargs\u001b[49m\u001b[43m)\u001b[49m\n",
      "File \u001b[0;32m~/dask_env/lib/python3.10/site-packages/graphviz/backend/piping.py:161\u001b[0m, in \u001b[0;36mpipe_lines\u001b[0;34m(engine, format, input_lines, input_encoding, renderer, formatter, neato_no_op, quiet)\u001b[0m\n\u001b[1;32m    155\u001b[0m cmd \u001b[38;5;241m=\u001b[39m dot_command\u001b[38;5;241m.\u001b[39mcommand(engine, \u001b[38;5;28mformat\u001b[39m,\n\u001b[1;32m    156\u001b[0m                           renderer\u001b[38;5;241m=\u001b[39mrenderer,\n\u001b[1;32m    157\u001b[0m                           formatter\u001b[38;5;241m=\u001b[39mformatter,\n\u001b[1;32m    158\u001b[0m                           neato_no_op\u001b[38;5;241m=\u001b[39mneato_no_op)\n\u001b[1;32m    159\u001b[0m kwargs \u001b[38;5;241m=\u001b[39m {\u001b[38;5;124m'\u001b[39m\u001b[38;5;124minput_lines\u001b[39m\u001b[38;5;124m'\u001b[39m: (line\u001b[38;5;241m.\u001b[39mencode(input_encoding) \u001b[38;5;28;01mfor\u001b[39;00m line \u001b[38;5;129;01min\u001b[39;00m input_lines)}\n\u001b[0;32m--> 161\u001b[0m proc \u001b[38;5;241m=\u001b[39m \u001b[43mexecute\u001b[49m\u001b[38;5;241;43m.\u001b[39;49m\u001b[43mrun_check\u001b[49m\u001b[43m(\u001b[49m\u001b[43mcmd\u001b[49m\u001b[43m,\u001b[49m\u001b[43m \u001b[49m\u001b[43mcapture_output\u001b[49m\u001b[38;5;241;43m=\u001b[39;49m\u001b[38;5;28;43;01mTrue\u001b[39;49;00m\u001b[43m,\u001b[49m\u001b[43m \u001b[49m\u001b[43mquiet\u001b[49m\u001b[38;5;241;43m=\u001b[39;49m\u001b[43mquiet\u001b[49m\u001b[43m,\u001b[49m\u001b[43m \u001b[49m\u001b[38;5;241;43m*\u001b[39;49m\u001b[38;5;241;43m*\u001b[39;49m\u001b[43mkwargs\u001b[49m\u001b[43m)\u001b[49m\n\u001b[1;32m    162\u001b[0m \u001b[38;5;28;01mreturn\u001b[39;00m proc\u001b[38;5;241m.\u001b[39mstdout\n",
      "File \u001b[0;32m~/dask_env/lib/python3.10/site-packages/graphviz/backend/execute.py:81\u001b[0m, in \u001b[0;36mrun_check\u001b[0;34m(cmd, input_lines, encoding, quiet, **kwargs)\u001b[0m\n\u001b[1;32m     79\u001b[0m \u001b[38;5;28;01mexcept\u001b[39;00m \u001b[38;5;167;01mOSError\u001b[39;00m \u001b[38;5;28;01mas\u001b[39;00m e:\n\u001b[1;32m     80\u001b[0m     \u001b[38;5;28;01mif\u001b[39;00m e\u001b[38;5;241m.\u001b[39merrno \u001b[38;5;241m==\u001b[39m errno\u001b[38;5;241m.\u001b[39mENOENT:\n\u001b[0;32m---> 81\u001b[0m         \u001b[38;5;28;01mraise\u001b[39;00m ExecutableNotFound(cmd) \u001b[38;5;28;01mfrom\u001b[39;00m\u001b[38;5;250m \u001b[39m\u001b[38;5;21;01me\u001b[39;00m\n\u001b[1;32m     82\u001b[0m     \u001b[38;5;28;01mraise\u001b[39;00m\n\u001b[1;32m     84\u001b[0m \u001b[38;5;28;01mif\u001b[39;00m \u001b[38;5;129;01mnot\u001b[39;00m quiet \u001b[38;5;129;01mand\u001b[39;00m proc\u001b[38;5;241m.\u001b[39mstderr:\n",
      "\u001b[0;31mExecutableNotFound\u001b[0m: failed to execute PosixPath('dot'), make sure the Graphviz executables are on your systems' PATH"
     ]
    }
   ],
   "source": [
    "# Visualize the full DAG\n",
    "dask.visualize(unified, filename='full_pa1_dag', format='png', rankdir='TB')"
   ]
  },
  {
   "cell_type": "code",
   "execution_count": 92,
   "id": "da23c56e-1cac-4464-a2cd-ca1584756ce9",
   "metadata": {},
   "outputs": [
    {
     "data": {
      "text/plain": [
       "Dask Series Structure:\n",
       "npartitions=1\n",
       "asin              float64\n",
       "unixReviewTime        ...\n",
       "Dask Name: mul, 7 expressions\n",
       "Expr=(IsNa(frame=Partitions(frame=ArrowStringConversion(frame=FromMapProjectable(df2bcf2)), partitions=[0]))).sum() / 111390 * 100"
      ]
     },
     "execution_count": 92,
     "metadata": {},
     "output_type": "execute_result"
    }
   ],
   "source": [
    "ans1#, ans2, ans3, ans4, ans5, ans6, ans7"
   ]
  },
  {
   "cell_type": "code",
   "execution_count": 22,
   "id": "a00797bd-ecf5-44ea-a391-1b019061fd59",
   "metadata": {},
   "outputs": [
    {
     "data": {
      "text/plain": [
       "reviewerID        0.000000\n",
       "asin              0.000000\n",
       "reviewerName      0.033450\n",
       "helpful           0.000000\n",
       "reviewText        0.000180\n",
       "overall           0.000000\n",
       "summary           0.000117\n",
       "unixReviewTime    0.000000\n",
       "reviewTime        0.000000\n",
       "dtype: float64"
      ]
     },
     "execution_count": 22,
     "metadata": {},
     "output_type": "execute_result"
    }
   ],
   "source": [
    "#Question1\n",
    "rev.isna().sum(axis=0) / len(rev)"
   ]
  },
  {
   "cell_type": "code",
   "execution_count": 21,
   "id": "a230c6ec-65da-4d79-9d73-263e093d648b",
   "metadata": {},
   "outputs": [
    {
     "data": {
      "text/plain": [
       "asin           0.000000\n",
       "salesRank      0.003960\n",
       "imUrl          0.016298\n",
       "categories     0.000271\n",
       "title          0.000625\n",
       "description    0.281278\n",
       "price          0.234530\n",
       "related        0.185240\n",
       "brand          0.999812\n",
       "dtype: float64"
      ]
     },
     "execution_count": 21,
     "metadata": {},
     "output_type": "execute_result"
    }
   ],
   "source": [
    "#Q2:\n",
    "prod.isna().sum(axis=0) / len(prod)"
   ]
  },
  {
   "cell_type": "code",
   "execution_count": 24,
   "id": "8d70fd02-fb0d-4e7c-9398-d3e2eda3d4cb",
   "metadata": {},
   "outputs": [
    {
     "data": {
      "text/plain": [
       "np.float64(-0.023792516709690775)"
      ]
     },
     "execution_count": 24,
     "metadata": {},
     "output_type": "execute_result"
    }
   ],
   "source": [
    "#Q3:\n",
    "rev_small = rev[['asin', 'overall']]\n",
    "prod_small = prod[['asin', 'price']]\n",
    "\n",
    "merged = pd.merge(rev_small, prod_small, on='asin', how='inner')\n",
    "\n",
    "merged = merged.dropna(subset=['overall', 'price'])\n",
    "corr = merged[['overall', 'price']].corr()\n",
    "corr.loc['overall', 'price']"
   ]
  },
  {
   "cell_type": "code",
   "execution_count": 31,
   "id": "50bc64d8-c754-452c-b528-62d413b1a93b",
   "metadata": {},
   "outputs": [
    {
     "data": {
      "text/plain": [
       "{'mean': np.float64(19.031475985624045),\n",
       " 'std': np.float64(30.775630420960038),\n",
       " 'min': np.float64(0.0),\n",
       " 'max': np.float64(888.0),\n",
       " 'median': np.float64(10.67)}"
      ]
     },
     "execution_count": 31,
     "metadata": {},
     "output_type": "execute_result"
    }
   ],
   "source": [
    "#Q4:\n",
    "price = prod['price'].dropna()\n",
    "price.describe()#[['mean', 'std', 'median', 'min', 'max']]\n",
    "mean = price.mean()\n",
    "std = price.std()\n",
    "pmin = price.min()\n",
    "pmax = price.max()\n",
    "median = price.median()\n",
    "{\n",
    "    'mean': mean,\n",
    "    'std': std,\n",
    "    'min': pmin,\n",
    "    'max': pmax,\n",
    "    'median': median,\n",
    "}"
   ]
  },
  {
   "cell_type": "code",
   "execution_count": 69,
   "id": "7443b4ab-165e-49c1-a186-2c3bc4777e31",
   "metadata": {},
   "outputs": [
    {
     "data": {
      "text/plain": [
       "<bound method Series.to_dict of categories\n",
       "Books                        47894\n",
       "Movies & TV                     46\n",
       "CDs & Vinyl                      8\n",
       "Sports & Outdoors                6\n",
       "Musical Instruments              4\n",
       "Toys & Games                     2\n",
       "Clothing, Shoes & Jewelry        2\n",
       "Tools & Home Improvement         1\n",
       "Software                         1\n",
       "Name: count, dtype: int64>"
      ]
     },
     "execution_count": 69,
     "metadata": {},
     "output_type": "execute_result"
    }
   ],
   "source": [
    "#Q5:\n",
    "import ast\n",
    "cat = prod['categories'].dropna().compute()\n",
    "\n",
    "\n",
    "def get_supercat(cat_str):\n",
    "    try:\n",
    "        cat_list = eval(cat_str)\n",
    "        if isinstance(cat_list, list) and cat_list and isinstance(cat_list[0], list) and cat_list[0] and cat_list[0][0]:\n",
    "            return cat_list[0][0]\n",
    "        else:\n",
    "            return None\n",
    "    except:\n",
    "        return None\n",
    "\n",
    "valid_cats = cat.map(get_supercat)\n",
    "valid_cats\n",
    "\n",
    "cat_count = valid_cats.value_counts().sort_values(ascending=False)\n",
    "cat_count.to_dict"
   ]
  },
  {
   "cell_type": "code",
   "execution_count": 60,
   "id": "5d7580cd-225f-4ee6-8bd8-4021c831b9ef",
   "metadata": {},
   "outputs": [
    {
     "data": {
      "text/plain": [
       "1"
      ]
     },
     "execution_count": 60,
     "metadata": {},
     "output_type": "execute_result"
    }
   ],
   "source": [
    "#Q6:\n",
    "rev_asins = rev['asin'].dropna()\n",
    "prod_asins = prod['asin'].dropna()\n",
    "rev_asins_set = set(rev_asins)\n",
    "prod_asins_set = set(prod_asins)\n",
    "dangling_refs = rev_asins_set - prod_asins_set\n",
    "int(len(dangling_refs) >0)"
   ]
  },
  {
   "cell_type": "code",
   "execution_count": 86,
   "id": "50bb9cd5-1741-48ca-a70f-d839f4378199",
   "metadata": {},
   "outputs": [
    {
     "data": {
      "text/plain": [
       "1"
      ]
     },
     "execution_count": 86,
     "metadata": {},
     "output_type": "execute_result"
    }
   ],
   "source": [
    "#Q7:\n",
    "related = prod['related'].dropna()\n",
    "\n",
    "def extract_related_ids(related_str):\n",
    "    try:\n",
    "        d = ast.literal_eval(related_str)\n",
    "        ids = []\n",
    "        for k in ['also_bought', 'also_viewed', 'bought_together', 'buy_after_viewing']:\n",
    "            if k in d and isinstance(d[k], list):\n",
    "                ids.extend(d[k])\n",
    "        return ids\n",
    "    except:\n",
    "        return []\n",
    "\n",
    "related_ids = related.map(extract_related_ids, meta=('related_ids', 'object')).explode()\n",
    "related_ids = related_ids.dropna()\n",
    "related_ids_set = set(related_ids.compute())\n",
    "ans7 = int(len(related_ids_set - prod_asins_set) > 0)\n",
    "ans7"
   ]
  },
  {
   "cell_type": "markdown",
   "id": "c7d92954-28b3-4ad0-b7de-d8b8f4816c80",
   "metadata": {},
   "source": [
    "## <font color='red'> DO NOT MODIFY </font>"
   ]
  },
  {
   "cell_type": "code",
   "execution_count": null,
   "id": "c438177d-8c4d-4871-bbc6-bea2f0a004b3",
   "metadata": {},
   "outputs": [],
   "source": [
    "end = time.time()"
   ]
  },
  {
   "cell_type": "code",
   "execution_count": null,
   "id": "0adca53b-b276-4297-8434-6c0e94810d72",
   "metadata": {},
   "outputs": [],
   "source": [
    "print(f\"execution time = {end-start}s\")"
   ]
  },
  {
   "cell_type": "code",
   "execution_count": null,
   "id": "935be195-dcc9-4e97-911a-bae25e2a70f3",
   "metadata": {},
   "outputs": [],
   "source": [
    "# DO NOT MODIFY\n",
    "assert type(ans1) == dict, f\"answer to question 1 must be a dictionary like {{'reviewerID':0.2, ..}}, got type = {type(ans1)}\"\n",
    "assert type(ans2) == dict, f\"answer to question 2 must be a dictionary like {{'asin':0.2, ..}}, got type = {type(ans2)}\"\n",
    "assert type(ans3) == float, f\"answer to question 3 must be a float like 0.8, got type = {type(ans3)}\"\n",
    "assert type(ans4) == dict, f\"answer to question 4 must be a dictionary like {{'mean':0.4,'max':0.6,'median':0.6...}}, got type = {type(ans4)}\"\n",
    "assert type(ans5) == dict, f\"answer to question 5 must be a dictionary, got type = {type(ans5)}\"         \n",
    "assert ans6 == 0 or ans6==1, f\"answer to question 6 must be 0 or 1, got value = {ans6}\" \n",
    "assert ans7 == 0 or ans7==1, f\"answer to question 7 must be 0 or 1, got value = {ans7}\" \n",
    "\n",
    "ans_dict = {\n",
    "    \"q1\": ans1,\n",
    "    \"q2\": ans2,\n",
    "    \"q3\": ans3,\n",
    "    \"q4\": ans4,\n",
    "    \"q5\": ans5,\n",
    "    \"q6\": ans6,\n",
    "    \"q7\": ans7,\n",
    "    \"runtime\": end-start\n",
    "}\n",
    "with open('my_results_PA1.json', 'w') as outfile: json.dump(ans_dict, outfile)         "
   ]
  }
 ],
 "metadata": {
  "kernelspec": {
   "display_name": "Python 3 (ipykernel)",
   "language": "python",
   "name": "python3"
  },
  "language_info": {
   "codemirror_mode": {
    "name": "ipython",
    "version": 3
   },
   "file_extension": ".py",
   "mimetype": "text/x-python",
   "name": "python",
   "nbconvert_exporter": "python",
   "pygments_lexer": "ipython3",
   "version": "3.10.12"
  }
 },
 "nbformat": 4,
 "nbformat_minor": 5
}
